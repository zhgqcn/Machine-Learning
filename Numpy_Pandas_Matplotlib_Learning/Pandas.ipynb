{
 "cells": [
  {
   "cell_type": "code",
   "execution_count": 1,
   "metadata": {
    "collapsed": true
   },
   "outputs": [],
   "source": [
    "# https://www.w3cschool.cn/hyspo/hyspo-sufo3721.html\n",
    "import numpy as np\n",
    "import pandas as pd"
   ]
  },
  {
   "cell_type": "markdown",
   "metadata": {},
   "source": [
    "## 数据结构\n",
    "\n",
    "|维数|\t名称|\t描述|\n",
    "|  ----  | ----  |---|\n",
    "|1|\tSeries|\t带标签的一维同构数组|\n",
    "|2|\tDataFrame|\t带标签的，大小可变的，二维异构表格|\n",
    "\n",
    "### 为什么有多个数据结构？\n",
    "  Pandas 数据结构就像是低维数据的容器。比如，DataFrame 是 Series 的容器，Series 则是标量的容器。使用这种方式，可以在容器中以字典的形式插入或删除对象。  \n",
    "\n",
    "  此外，通用 API 函数的默认操作要顾及时间序列与截面数据集的方向。多维数组存储二维或三维数据时，编写函数要注意数据集的方向，这对用户来说是一种负担；如果不考虑 C 或 Fortran 中连续性对性能的影响，一般情况下，不同的轴在程序里其实没有什么区别。Pandas 里，轴的概念主要是为了给数据赋予更直观的语义，即用“更恰当”的方式表示数据集的方向。这样做可以让用户编写数据转换函数时，少费点脑子。  \n",
    "```python\n",
    "for col in df.columns:\n",
    "    series = df[col]\n",
    "```\n",
    "  处理 DataFrame 等表格数据时，index（行）或 columns（列）比 axis 0 和 axis 1 更直观。用这种方式迭代 DataFrame 的列，代码更易读易懂："
   ]
  },
  {
   "cell_type": "code",
   "execution_count": 3,
   "metadata": {},
   "outputs": [
    {
     "name": "stdout",
     "output_type": "stream",
     "text": [
      "0    1.0\n",
      "1    3.0\n",
      "2    5.0\n",
      "3    NaN\n",
      "4    6.0\n",
      "5    7.0\n",
      "dtype: float64\n"
     ]
    }
   ],
   "source": [
    "# 入门 https://www.w3cschool.cn/hyspo/hyspo-m7je3723.html\n",
    "s = pd.Series([1, 3, 5, np.nan, 6, 7])  # 用值列表生成 Series 时，Pandas 默认自动生成整数索引\n",
    "print(s)"
   ]
  },
  {
   "cell_type": "code",
   "execution_count": 4,
   "metadata": {},
   "outputs": [
    {
     "name": "stdout",
     "output_type": "stream",
     "text": [
      "DatetimeIndex(['2021-05-09', '2021-05-10', '2021-05-11', '2021-05-12',\n",
      "               '2021-05-13', '2021-05-14'],\n",
      "              dtype='datetime64[ns]', freq='D')\n",
      "                   a         b         c         d\n",
      "2021-05-09  0.194362  0.581930  0.016065  0.317141\n",
      "2021-05-10  0.137828  0.106331  0.357647  0.816161\n",
      "2021-05-11  0.487813  0.172038  0.475729  0.668828\n",
      "2021-05-12  0.445469  0.031866  0.260916  0.060886\n",
      "2021-05-13  0.422160  0.564189  0.206295  0.885352\n",
      "2021-05-14  0.015215  0.625490  0.939655  0.553077\n"
     ]
    }
   ],
   "source": [
    "# 用含日期时间索引与标签的 NumPy 数组生成 DataFrame\n",
    "dates = pd.date_range('20210509', periods=6)\n",
    "print(dates)\n",
    "df = pd.DataFrame(np.random.rand(6, 4), index=dates, columns=list('abcd'))\n",
    "print(df)"
   ]
  },
  {
   "cell_type": "code",
   "execution_count": 5,
   "metadata": {},
   "outputs": [
    {
     "name": "stdout",
     "output_type": "stream",
     "text": [
      "   A          B    C  D      E    F\n",
      "0  1 2021-05-09  1.0  3   test  foo\n",
      "1  1 2021-05-09  1.0  3  train  foo\n",
      "2  1 2021-05-09  1.0  3  train  foo\n",
      "3  1 2021-05-09  1.0  3   test  foo\n",
      "A             int64\n",
      "B    datetime64[ns]\n",
      "C           float32\n",
      "D             int32\n",
      "E          category\n",
      "F            object\n",
      "dtype: object\n"
     ]
    }
   ],
   "source": [
    "# 用 Series 字典对象生成 DataFrame\n",
    "df2 = pd.DataFrame({'A': 1,\n",
    "                   'B': pd.Timestamp('20210509'),\n",
    "                   'C': pd.Series(1, index=list(range(4)), dtype='float32'),\n",
    "                   'D': np.array([3] * 4, dtype='int32'),\n",
    "                   'E': pd.Categorical(['test', 'train', 'train', 'test']),\n",
    "                   'F': 'foo'\n",
    "                  })\n",
    "print(df2)\n",
    "print(df2.dtypes)   # 该 DataFrame 的列有不同数据类型。"
   ]
  },
  {
   "cell_type": "markdown",
   "metadata": {},
   "source": [
    "# 查看数据"
   ]
  },
  {
   "cell_type": "code",
   "execution_count": 6,
   "metadata": {},
   "outputs": [
    {
     "name": "stdout",
     "output_type": "stream",
     "text": [
      "查看头部数据，未设置参数即为所有行：\n",
      "                    a         b         c         d\n",
      "2021-05-09  0.194362  0.581930  0.016065  0.317141\n",
      "2021-05-10  0.137828  0.106331  0.357647  0.816161\n",
      "2021-05-11  0.487813  0.172038  0.475729  0.668828\n",
      "2021-05-12  0.445469  0.031866  0.260916  0.060886\n",
      "2021-05-13  0.422160  0.564189  0.206295  0.885352\n",
      "查看前两行数据\n",
      "                    a         b         c         d\n",
      "2021-05-09  0.194362  0.581930  0.016065  0.317141\n",
      "2021-05-10  0.137828  0.106331  0.357647  0.816161\n",
      "同理，查看尾部两行数据:\n",
      "                    a         b         c         d\n",
      "2021-05-13  0.422160  0.564189  0.206295  0.885352\n",
      "2021-05-14  0.015215  0.625490  0.939655  0.553077\n"
     ]
    }
   ],
   "source": [
    "print('查看头部数据，未设置参数即为所有行：\\n', df.head())   \n",
    "print('查看前两行数据\\n', df.head(2))\n",
    "print('同理，查看尾部两行数据:\\n', df.tail(2))"
   ]
  },
  {
   "cell_type": "code",
   "execution_count": 7,
   "metadata": {},
   "outputs": [
    {
     "name": "stdout",
     "output_type": "stream",
     "text": [
      "DatetimeIndex(['2021-05-09', '2021-05-10', '2021-05-11', '2021-05-12',\n",
      "               '2021-05-13', '2021-05-14'],\n",
      "              dtype='datetime64[ns]', freq='D')\n",
      "Index(['a', 'b', 'c', 'd'], dtype='object')\n"
     ]
    }
   ],
   "source": [
    "print(df.index)     # 显示索引\n",
    "print(df.columns)   # 显示列名"
   ]
  },
  {
   "cell_type": "markdown",
   "metadata": {},
   "source": [
    "`DataFrame.to_numpy() `输出底层数据的 NumPy 对象。注意，DataFrame 的列由**多种数据类型**组成时，该操作**耗费系统资源较大**，这也是 Pandas 和 NumPy 的本质区别：**NumPy** 数组只有**一种数据类型**，**DataFrame** 每列的数据类型各**不相同**。调用 DataFrame.to_numpy() 时，Pandas 查找支持 DataFrame 里所有数据类型的 NumPy 数据类型。还有一种数据类型是 object，可以把 DataFrame 列里的值强制转换为 Python 对象。"
   ]
  },
  {
   "cell_type": "code",
   "execution_count": 8,
   "metadata": {},
   "outputs": [
    {
     "name": "stdout",
     "output_type": "stream",
     "text": [
      "[[0.19436228 0.58192995 0.01606485 0.31714138]\n",
      " [0.13782843 0.10633127 0.35764749 0.81616134]\n",
      " [0.4878131  0.17203817 0.47572919 0.66882847]\n",
      " [0.44546899 0.03186614 0.26091611 0.06088618]\n",
      " [0.42216035 0.56418909 0.20629511 0.88535172]\n",
      " [0.01521515 0.62549028 0.93965475 0.55307672]]\n",
      "[[1 Timestamp('2021-05-09 00:00:00') 1.0 3 'test' 'foo']\n",
      " [1 Timestamp('2021-05-09 00:00:00') 1.0 3 'train' 'foo']\n",
      " [1 Timestamp('2021-05-09 00:00:00') 1.0 3 'train' 'foo']\n",
      " [1 Timestamp('2021-05-09 00:00:00') 1.0 3 'test' 'foo']]\n"
     ]
    }
   ],
   "source": [
    "# 下面的 df 这个 DataFrame 里的值都是浮点数，DataFrame.to_numpy() 的操作会很快，而且不复制数据。\n",
    "print(df.to_numpy())\n",
    "# df2 这个 DataFrame 包含了多种类型，DataFrame.to_numpy() 操作就会耗费较多资源。\n",
    "print(df2.to_numpy())      # DataFrame.to_numpy() 的输出不包含行索引和列标签。"
   ]
  },
  {
   "cell_type": "code",
   "execution_count": 9,
   "metadata": {},
   "outputs": [
    {
     "name": "stdout",
     "output_type": "stream",
     "text": [
      "                   a         b         c         d\n",
      "2021-05-09  0.194362  0.581930  0.016065  0.317141\n",
      "2021-05-10  0.137828  0.106331  0.357647  0.816161\n",
      "2021-05-11  0.487813  0.172038  0.475729  0.668828\n",
      "2021-05-12  0.445469  0.031866  0.260916  0.060886\n",
      "2021-05-13  0.422160  0.564189  0.206295  0.885352\n",
      "2021-05-14  0.015215  0.625490  0.939655  0.553077\n"
     ]
    },
    {
     "data": {
      "text/html": [
       "<div>\n",
       "<style scoped>\n",
       "    .dataframe tbody tr th:only-of-type {\n",
       "        vertical-align: middle;\n",
       "    }\n",
       "\n",
       "    .dataframe tbody tr th {\n",
       "        vertical-align: top;\n",
       "    }\n",
       "\n",
       "    .dataframe thead th {\n",
       "        text-align: right;\n",
       "    }\n",
       "</style>\n",
       "<table border=\"1\" class=\"dataframe\">\n",
       "  <thead>\n",
       "    <tr style=\"text-align: right;\">\n",
       "      <th></th>\n",
       "      <th>a</th>\n",
       "      <th>b</th>\n",
       "      <th>c</th>\n",
       "      <th>d</th>\n",
       "    </tr>\n",
       "  </thead>\n",
       "  <tbody>\n",
       "    <tr>\n",
       "      <th>count</th>\n",
       "      <td>6.000000</td>\n",
       "      <td>6.000000</td>\n",
       "      <td>6.000000</td>\n",
       "      <td>6.000000</td>\n",
       "    </tr>\n",
       "    <tr>\n",
       "      <th>mean</th>\n",
       "      <td>0.283808</td>\n",
       "      <td>0.346974</td>\n",
       "      <td>0.376051</td>\n",
       "      <td>0.550241</td>\n",
       "    </tr>\n",
       "    <tr>\n",
       "      <th>std</th>\n",
       "      <td>0.194086</td>\n",
       "      <td>0.271206</td>\n",
       "      <td>0.316097</td>\n",
       "      <td>0.313333</td>\n",
       "    </tr>\n",
       "    <tr>\n",
       "      <th>min</th>\n",
       "      <td>0.015215</td>\n",
       "      <td>0.031866</td>\n",
       "      <td>0.016065</td>\n",
       "      <td>0.060886</td>\n",
       "    </tr>\n",
       "    <tr>\n",
       "      <th>25%</th>\n",
       "      <td>0.151962</td>\n",
       "      <td>0.122758</td>\n",
       "      <td>0.219950</td>\n",
       "      <td>0.376125</td>\n",
       "    </tr>\n",
       "    <tr>\n",
       "      <th>50%</th>\n",
       "      <td>0.308261</td>\n",
       "      <td>0.368114</td>\n",
       "      <td>0.309282</td>\n",
       "      <td>0.610953</td>\n",
       "    </tr>\n",
       "    <tr>\n",
       "      <th>75%</th>\n",
       "      <td>0.439642</td>\n",
       "      <td>0.577495</td>\n",
       "      <td>0.446209</td>\n",
       "      <td>0.779328</td>\n",
       "    </tr>\n",
       "    <tr>\n",
       "      <th>max</th>\n",
       "      <td>0.487813</td>\n",
       "      <td>0.625490</td>\n",
       "      <td>0.939655</td>\n",
       "      <td>0.885352</td>\n",
       "    </tr>\n",
       "  </tbody>\n",
       "</table>\n",
       "</div>"
      ],
      "text/plain": [
       "              a         b         c         d\n",
       "count  6.000000  6.000000  6.000000  6.000000\n",
       "mean   0.283808  0.346974  0.376051  0.550241\n",
       "std    0.194086  0.271206  0.316097  0.313333\n",
       "min    0.015215  0.031866  0.016065  0.060886\n",
       "25%    0.151962  0.122758  0.219950  0.376125\n",
       "50%    0.308261  0.368114  0.309282  0.610953\n",
       "75%    0.439642  0.577495  0.446209  0.779328\n",
       "max    0.487813  0.625490  0.939655  0.885352"
      ]
     },
     "execution_count": 9,
     "metadata": {},
     "output_type": "execute_result"
    }
   ],
   "source": [
    "# describe() 可以快速查看数据的统计摘要\n",
    "print(df)\n",
    "df.describe()"
   ]
  },
  {
   "cell_type": "code",
   "execution_count": 10,
   "metadata": {},
   "outputs": [
    {
     "data": {
      "text/html": [
       "<div>\n",
       "<style scoped>\n",
       "    .dataframe tbody tr th:only-of-type {\n",
       "        vertical-align: middle;\n",
       "    }\n",
       "\n",
       "    .dataframe tbody tr th {\n",
       "        vertical-align: top;\n",
       "    }\n",
       "\n",
       "    .dataframe thead th {\n",
       "        text-align: right;\n",
       "    }\n",
       "</style>\n",
       "<table border=\"1\" class=\"dataframe\">\n",
       "  <thead>\n",
       "    <tr style=\"text-align: right;\">\n",
       "      <th></th>\n",
       "      <th>2021-05-09</th>\n",
       "      <th>2021-05-10</th>\n",
       "      <th>2021-05-11</th>\n",
       "      <th>2021-05-12</th>\n",
       "      <th>2021-05-13</th>\n",
       "      <th>2021-05-14</th>\n",
       "    </tr>\n",
       "  </thead>\n",
       "  <tbody>\n",
       "    <tr>\n",
       "      <th>a</th>\n",
       "      <td>0.194362</td>\n",
       "      <td>0.137828</td>\n",
       "      <td>0.487813</td>\n",
       "      <td>0.445469</td>\n",
       "      <td>0.422160</td>\n",
       "      <td>0.015215</td>\n",
       "    </tr>\n",
       "    <tr>\n",
       "      <th>b</th>\n",
       "      <td>0.581930</td>\n",
       "      <td>0.106331</td>\n",
       "      <td>0.172038</td>\n",
       "      <td>0.031866</td>\n",
       "      <td>0.564189</td>\n",
       "      <td>0.625490</td>\n",
       "    </tr>\n",
       "    <tr>\n",
       "      <th>c</th>\n",
       "      <td>0.016065</td>\n",
       "      <td>0.357647</td>\n",
       "      <td>0.475729</td>\n",
       "      <td>0.260916</td>\n",
       "      <td>0.206295</td>\n",
       "      <td>0.939655</td>\n",
       "    </tr>\n",
       "    <tr>\n",
       "      <th>d</th>\n",
       "      <td>0.317141</td>\n",
       "      <td>0.816161</td>\n",
       "      <td>0.668828</td>\n",
       "      <td>0.060886</td>\n",
       "      <td>0.885352</td>\n",
       "      <td>0.553077</td>\n",
       "    </tr>\n",
       "  </tbody>\n",
       "</table>\n",
       "</div>"
      ],
      "text/plain": [
       "   2021-05-09  2021-05-10  2021-05-11  2021-05-12  2021-05-13  2021-05-14\n",
       "a    0.194362    0.137828    0.487813    0.445469    0.422160    0.015215\n",
       "b    0.581930    0.106331    0.172038    0.031866    0.564189    0.625490\n",
       "c    0.016065    0.357647    0.475729    0.260916    0.206295    0.939655\n",
       "d    0.317141    0.816161    0.668828    0.060886    0.885352    0.553077"
      ]
     },
     "execution_count": 10,
     "metadata": {},
     "output_type": "execute_result"
    }
   ],
   "source": [
    "# 转置\n",
    "df.T"
   ]
  },
  {
   "cell_type": "code",
   "execution_count": 11,
   "metadata": {},
   "outputs": [
    {
     "name": "stdout",
     "output_type": "stream",
     "text": [
      "                   d         c         b         a\n",
      "2021-05-09  0.317141  0.016065  0.581930  0.194362\n",
      "2021-05-10  0.816161  0.357647  0.106331  0.137828\n",
      "2021-05-11  0.668828  0.475729  0.172038  0.487813\n",
      "2021-05-12  0.060886  0.260916  0.031866  0.445469\n",
      "2021-05-13  0.885352  0.206295  0.564189  0.422160\n",
      "2021-05-14  0.553077  0.939655  0.625490  0.015215\n",
      "                   a         b         c         d\n",
      "2021-05-14  0.015215  0.625490  0.939655  0.553077\n",
      "2021-05-13  0.422160  0.564189  0.206295  0.885352\n",
      "2021-05-12  0.445469  0.031866  0.260916  0.060886\n",
      "2021-05-11  0.487813  0.172038  0.475729  0.668828\n",
      "2021-05-10  0.137828  0.106331  0.357647  0.816161\n",
      "2021-05-09  0.194362  0.581930  0.016065  0.317141\n",
      "                   a         b         c         d\n",
      "2021-05-12  0.445469  0.031866  0.260916  0.060886\n",
      "2021-05-10  0.137828  0.106331  0.357647  0.816161\n",
      "2021-05-11  0.487813  0.172038  0.475729  0.668828\n",
      "2021-05-13  0.422160  0.564189  0.206295  0.885352\n",
      "2021-05-09  0.194362  0.581930  0.016065  0.317141\n",
      "2021-05-14  0.015215  0.625490  0.939655  0.553077\n"
     ]
    }
   ],
   "source": [
    "# 排序\n",
    "# 按轴排序\n",
    "print(df.sort_index(axis=1, ascending=False))     # 0 or 'index', 1 or 'columns'\n",
    "print(df.sort_index(axis=0, ascending=False))\n",
    "\n",
    "# 按值排序\n",
    "print(df.sort_values(by='b'))"
   ]
  },
  {
   "cell_type": "markdown",
   "metadata": {},
   "source": [
    "# 选择"
   ]
  },
  {
   "cell_type": "code",
   "execution_count": 12,
   "metadata": {},
   "outputs": [
    {
     "name": "stdout",
     "output_type": "stream",
     "text": [
      "                   a         b         c         d\n",
      "2021-05-09  0.194362  0.581930  0.016065  0.317141\n",
      "2021-05-10  0.137828  0.106331  0.357647  0.816161\n",
      "2021-05-11  0.487813  0.172038  0.475729  0.668828\n",
      "2021-05-12  0.445469  0.031866  0.260916  0.060886\n",
      "2021-05-13  0.422160  0.564189  0.206295  0.885352\n",
      "2021-05-14  0.015215  0.625490  0.939655  0.553077\n"
     ]
    }
   ],
   "source": [
    "print(df)"
   ]
  },
  {
   "cell_type": "code",
   "execution_count": 13,
   "metadata": {},
   "outputs": [
    {
     "name": "stdout",
     "output_type": "stream",
     "text": [
      "2021-05-09    0.194362\n",
      "2021-05-10    0.137828\n",
      "2021-05-11    0.487813\n",
      "2021-05-12    0.445469\n",
      "2021-05-13    0.422160\n",
      "2021-05-14    0.015215\n",
      "Freq: D, Name: a, dtype: float64\n"
     ]
    }
   ],
   "source": [
    "print(df['a'])   # 选择单列，产生 Series，与 df.a 等效"
   ]
  },
  {
   "cell_type": "code",
   "execution_count": 14,
   "metadata": {},
   "outputs": [
    {
     "name": "stdout",
     "output_type": "stream",
     "text": [
      "                   a         b         c         d\n",
      "2021-05-09  0.194362  0.581930  0.016065  0.317141\n",
      "2021-05-10  0.137828  0.106331  0.357647  0.816161\n",
      "                   a         b         c         d\n",
      "2021-05-09  0.194362  0.581930  0.016065  0.317141\n",
      "2021-05-10  0.137828  0.106331  0.357647  0.816161\n",
      "2021-05-11  0.487813  0.172038  0.475729  0.668828\n"
     ]
    }
   ],
   "source": [
    "print(df[0:2])                        # []对 行 切片\n",
    "print(df['20210509':'20210511'])"
   ]
  },
  {
   "cell_type": "markdown",
   "metadata": {},
   "source": [
    "## 按标签选择"
   ]
  },
  {
   "cell_type": "code",
   "execution_count": 15,
   "metadata": {},
   "outputs": [
    {
     "name": "stdout",
     "output_type": "stream",
     "text": [
      "DatetimeIndex(['2021-05-09', '2021-05-10', '2021-05-11', '2021-05-12',\n",
      "               '2021-05-13', '2021-05-14'],\n",
      "              dtype='datetime64[ns]', freq='D')\n",
      "2021-05-09 00:00:00\n",
      "a    0.194362\n",
      "b    0.581930\n",
      "c    0.016065\n",
      "d    0.317141\n",
      "Name: 2021-05-09 00:00:00, dtype: float64\n"
     ]
    }
   ],
   "source": [
    "dates = pd.date_range('20210509', periods=6)\n",
    "print(dates)\n",
    "print(dates[0])\n",
    "print(df.loc[dates[0]])     # 用标签提取一行数据"
   ]
  },
  {
   "cell_type": "code",
   "execution_count": 16,
   "metadata": {},
   "outputs": [
    {
     "name": "stdout",
     "output_type": "stream",
     "text": [
      "                   a         b\n",
      "2021-05-09  0.194362  0.581930\n",
      "2021-05-10  0.137828  0.106331\n",
      "2021-05-11  0.487813  0.172038\n",
      "2021-05-12  0.445469  0.031866\n",
      "2021-05-13  0.422160  0.564189\n",
      "2021-05-14  0.015215  0.625490\n"
     ]
    }
   ],
   "source": [
    "print(df.loc[:, ['a', 'b']]) # 用标签选择多列数据"
   ]
  },
  {
   "cell_type": "code",
   "execution_count": 17,
   "metadata": {},
   "outputs": [
    {
     "name": "stdout",
     "output_type": "stream",
     "text": [
      "                   a         c         d\n",
      "2021-05-12  0.445469  0.260916  0.060886\n",
      "2021-05-13  0.422160  0.206295  0.885352\n",
      "2021-05-14  0.015215  0.939655  0.553077\n"
     ]
    }
   ],
   "source": [
    "print(df.loc['20210512':, ['a', 'c', 'd']])  # 用标签切片，包含行与列结束点"
   ]
  },
  {
   "cell_type": "code",
   "execution_count": 18,
   "metadata": {},
   "outputs": [
    {
     "name": "stdout",
     "output_type": "stream",
     "text": [
      "a    0.137828\n",
      "c    0.357647\n",
      "Name: 2021-05-10 00:00:00, dtype: float64\n",
      "a    0.137828\n",
      "Name: 2021-05-10 00:00:00, dtype: float64\n",
      "0.13782843445546067\n"
     ]
    }
   ],
   "source": [
    "print(df.loc['20210510', ['a', 'c']])   # 返回对象降维\n",
    "print(df.loc['20210510', ['a']])        # 提取标量值\n",
    "print(df.at[dates[1], 'a'])            # 快速访问标量，与上述方法等效"
   ]
  },
  {
   "cell_type": "markdown",
   "metadata": {},
   "source": [
    "## 按位置选择"
   ]
  },
  {
   "cell_type": "code",
   "execution_count": 78,
   "metadata": {},
   "outputs": [
    {
     "name": "stdout",
     "output_type": "stream",
     "text": [
      "                   a         b         c         d\n",
      "2021-05-09  0.119961  0.468303  0.505817  0.872104\n",
      "2021-05-10  0.919290  0.606701  0.702239  0.781662\n",
      "2021-05-11  0.040472  0.760895  0.391770  0.142076\n",
      "2021-05-12  0.356875  0.460742  0.046852  0.964362\n",
      "2021-05-13  0.958817  0.951671  0.269740  0.972632\n",
      "2021-05-14  0.295673  0.445668  0.665057  0.220061\n"
     ]
    }
   ],
   "source": [
    "print(df)"
   ]
  },
  {
   "cell_type": "code",
   "execution_count": 79,
   "metadata": {},
   "outputs": [
    {
     "name": "stdout",
     "output_type": "stream",
     "text": [
      "a    0.356875\n",
      "b    0.460742\n",
      "c    0.046852\n",
      "d    0.964362\n",
      "Name: 2021-05-12 00:00:00, dtype: float64\n"
     ]
    }
   ],
   "source": [
    "print(df.iloc[3])   # 用整数位置选择"
   ]
  },
  {
   "cell_type": "code",
   "execution_count": 80,
   "metadata": {},
   "outputs": [
    {
     "name": "stdout",
     "output_type": "stream",
     "text": [
      "                   a         b\n",
      "2021-05-12  0.356875  0.460742\n",
      "2021-05-13  0.958817  0.951671\n"
     ]
    }
   ],
   "source": [
    "print(df.iloc[3:5, 0:2]) # 类似 NumPy / Python，用整数切片"
   ]
  },
  {
   "cell_type": "code",
   "execution_count": 82,
   "metadata": {},
   "outputs": [
    {
     "name": "stdout",
     "output_type": "stream",
     "text": [
      "                   a         c\n",
      "2021-05-10  0.919290  0.702239\n",
      "2021-05-11  0.040472  0.391770\n",
      "2021-05-13  0.958817  0.269740\n"
     ]
    }
   ],
   "source": [
    "print(df.iloc[[1, 2, 4], [0, 2]])  # 类似 NumPy / Python，用整数列表按位置切片"
   ]
  },
  {
   "cell_type": "code",
   "execution_count": 86,
   "metadata": {},
   "outputs": [
    {
     "name": "stdout",
     "output_type": "stream",
     "text": [
      "                   a         b         c         d\n",
      "2021-05-10  0.919290  0.606701  0.702239  0.781662\n",
      "2021-05-11  0.040472  0.760895  0.391770  0.142076\n",
      "                   a         b         c         d\n",
      "2021-05-10  0.919290  0.606701  0.702239  0.781662\n",
      "2021-05-11  0.040472  0.760895  0.391770  0.142076\n"
     ]
    }
   ],
   "source": [
    "print(df.iloc[1:3, :]) # 显式整行切片\n",
    "print(df.iloc[1:3])"
   ]
  },
  {
   "cell_type": "code",
   "execution_count": 88,
   "metadata": {},
   "outputs": [
    {
     "name": "stdout",
     "output_type": "stream",
     "text": [
      "                   b         c\n",
      "2021-05-09  0.468303  0.505817\n",
      "2021-05-10  0.606701  0.702239\n",
      "2021-05-11  0.760895  0.391770\n",
      "2021-05-12  0.460742  0.046852\n",
      "2021-05-13  0.951671  0.269740\n",
      "2021-05-14  0.445668  0.665057\n",
      "                   b         c\n",
      "2021-05-09  0.468303  0.505817\n",
      "2021-05-10  0.606701  0.702239\n",
      "2021-05-11  0.760895  0.391770\n",
      "2021-05-12  0.460742  0.046852\n",
      "2021-05-13  0.951671  0.269740\n",
      "2021-05-14  0.445668  0.665057\n"
     ]
    }
   ],
   "source": [
    "print(df.iloc[:, 1:3])  # 显式整列切片\n",
    "print(df.iloc[0:, 1:3])"
   ]
  },
  {
   "cell_type": "code",
   "execution_count": 90,
   "metadata": {},
   "outputs": [
    {
     "name": "stdout",
     "output_type": "stream",
     "text": [
      "0.6067007607035125\n",
      "0.6067007607035125\n"
     ]
    }
   ],
   "source": [
    "print(df.iloc[1, 1])   # 显式提取值\n",
    "print(df.iat[1, 1])    # 快速访问标量，与上述方法等效"
   ]
  },
  {
   "cell_type": "markdown",
   "metadata": {},
   "source": [
    "## 布尔索引"
   ]
  },
  {
   "cell_type": "code",
   "execution_count": 94,
   "metadata": {},
   "outputs": [
    {
     "name": "stdout",
     "output_type": "stream",
     "text": [
      "2021-05-09    False\n",
      "2021-05-10     True\n",
      "2021-05-11    False\n",
      "2021-05-12    False\n",
      "2021-05-13     True\n",
      "2021-05-14    False\n",
      "Freq: D, Name: a, dtype: bool\n",
      "                   a         b         c         d\n",
      "2021-05-10  0.919290  0.606701  0.702239  0.781662\n",
      "2021-05-13  0.958817  0.951671  0.269740  0.972632\n"
     ]
    }
   ],
   "source": [
    "print(df.a > 0.5)\n",
    "print(df[df.a > 0.5])  # 用单列的值选择数据"
   ]
  },
  {
   "cell_type": "code",
   "execution_count": 97,
   "metadata": {},
   "outputs": [
    {
     "name": "stdout",
     "output_type": "stream",
     "text": [
      "                a      b      c      d\n",
      "2021-05-09  False  False   True   True\n",
      "2021-05-10   True   True   True   True\n",
      "2021-05-11  False   True  False  False\n",
      "2021-05-12  False  False  False   True\n",
      "2021-05-13   True   True  False   True\n",
      "2021-05-14  False  False   True  False\n",
      "                   a         b         c         d\n",
      "2021-05-09       NaN       NaN  0.505817  0.872104\n",
      "2021-05-10  0.919290  0.606701  0.702239  0.781662\n",
      "2021-05-11       NaN  0.760895       NaN       NaN\n",
      "2021-05-12       NaN       NaN       NaN  0.964362\n",
      "2021-05-13  0.958817  0.951671       NaN  0.972632\n",
      "2021-05-14       NaN       NaN  0.665057       NaN\n"
     ]
    }
   ],
   "source": [
    "print(df > 0.5)\n",
    "print(df[df > 0.5])  # 选择 DataFrame 里满足条件的值"
   ]
  },
  {
   "cell_type": "code",
   "execution_count": 102,
   "metadata": {},
   "outputs": [
    {
     "name": "stdout",
     "output_type": "stream",
     "text": [
      "                   a         b         c         d\n",
      "2021-05-09  0.119961  0.468303  0.505817  0.872104\n",
      "2021-05-10  0.919290  0.606701  0.702239  0.781662\n",
      "2021-05-11  0.040472  0.760895  0.391770  0.142076\n",
      "2021-05-12  0.356875  0.460742  0.046852  0.964362\n",
      "2021-05-13  0.958817  0.951671  0.269740  0.972632\n",
      "2021-05-14  0.295673  0.445668  0.665057  0.220061\n",
      "                   a         b         c         d      e\n",
      "2021-05-09  0.119961  0.468303  0.505817  0.872104    one\n",
      "2021-05-10  0.919290  0.606701  0.702239  0.781662    one\n",
      "2021-05-11  0.040472  0.760895  0.391770  0.142076    two\n",
      "2021-05-12  0.356875  0.460742  0.046852  0.964362  three\n",
      "2021-05-13  0.958817  0.951671  0.269740  0.972632   four\n",
      "2021-05-14  0.295673  0.445668  0.665057  0.220061  three\n",
      "                   a         b        c         d     e\n",
      "2021-05-11  0.040472  0.760895  0.39177  0.142076   two\n",
      "2021-05-13  0.958817  0.951671  0.26974  0.972632  four\n"
     ]
    }
   ],
   "source": [
    "df2 = df.copy()\n",
    "print(df2)\n",
    "df2['e'] = ['one', 'one', 'two', 'three', 'four', 'three']\n",
    "print(df2)\n",
    "print(df2[df2['e'].isin(['two', 'four'])])"
   ]
  },
  {
   "cell_type": "markdown",
   "metadata": {},
   "source": [
    "# 赋值"
   ]
  },
  {
   "cell_type": "code",
   "execution_count": 108,
   "metadata": {},
   "outputs": [
    {
     "name": "stdout",
     "output_type": "stream",
     "text": [
      "2021-05-12    1\n",
      "2021-05-13    2\n",
      "2021-05-14    3\n",
      "2021-05-15    4\n",
      "2021-05-16    5\n",
      "2021-05-17    6\n",
      "Freq: D, dtype: int64\n"
     ]
    }
   ],
   "source": [
    "s1 = pd.Series([1, 2, 3, 4, 5, 6], index = pd.date_range('20210512', periods=6))\n",
    "print(s1)"
   ]
  },
  {
   "cell_type": "code",
   "execution_count": 109,
   "metadata": {},
   "outputs": [
    {
     "name": "stdout",
     "output_type": "stream",
     "text": [
      "                   a         b         c         d      e    f\n",
      "2021-05-09  0.119961  0.468303  0.505817  0.872104    one  NaN\n",
      "2021-05-10  0.919290  0.606701  0.702239  0.781662    one  NaN\n",
      "2021-05-11  0.040472  0.760895  0.391770  0.142076    two  NaN\n",
      "2021-05-12  0.356875  0.460742  0.046852  0.964362  three  1.0\n",
      "2021-05-13  0.958817  0.951671  0.269740  0.972632   four  2.0\n",
      "2021-05-14  0.295673  0.445668  0.665057  0.220061  three  3.0\n"
     ]
    }
   ],
   "source": [
    "df2['f'] = s1   # 用索引自动对齐新增列的数据\n",
    "print(df2)"
   ]
  },
  {
   "cell_type": "code",
   "execution_count": 111,
   "metadata": {},
   "outputs": [
    {
     "name": "stdout",
     "output_type": "stream",
     "text": [
      "2021-05-09 00:00:00\n",
      "                   a         b         c         d      e    f\n",
      "2021-05-09  0.000000  0.468303  0.505817  0.872104    one  NaN\n",
      "2021-05-10  0.919290  0.606701  0.702239  0.781662    one  NaN\n",
      "2021-05-11  0.040472  0.760895  0.391770  0.142076    two  NaN\n",
      "2021-05-12  0.356875  0.460742  0.046852  0.964362  three  1.0\n",
      "2021-05-13  0.958817  0.951671  0.269740  0.972632   four  2.0\n",
      "2021-05-14  0.295673  0.445668  0.665057  0.220061  three  3.0\n"
     ]
    }
   ],
   "source": [
    "print(dates[0])\n",
    "df2.at[dates[0], 'a'] = 0 # 按标签赋值\n",
    "print(df2)"
   ]
  },
  {
   "cell_type": "code",
   "execution_count": 114,
   "metadata": {},
   "outputs": [
    {
     "name": "stdout",
     "output_type": "stream",
     "text": [
      "                   a         b         c         d      e    f\n",
      "2021-05-09  0.000000  0.000000  0.505817  0.872104    one  NaN\n",
      "2021-05-10  0.919290  0.606701  0.702239  0.781662    one  NaN\n",
      "2021-05-11  0.040472  0.760895  0.391770  0.142076    two  NaN\n",
      "2021-05-12  0.356875  0.460742  0.046852  0.964362  three  1.0\n",
      "2021-05-13  0.958817  0.951671  0.269740  0.972632   four  2.0\n",
      "2021-05-14  0.295673  0.445668  0.665057  0.220061  three  3.0\n"
     ]
    }
   ],
   "source": [
    "df2.iat[0, 1] = 0  # 按位置赋值\n",
    "print(df2)"
   ]
  },
  {
   "cell_type": "code",
   "execution_count": 115,
   "metadata": {},
   "outputs": [
    {
     "name": "stdout",
     "output_type": "stream",
     "text": [
      "                   a         b         c  d      e    f\n",
      "2021-05-09  0.000000  0.000000  0.505817  5    one  NaN\n",
      "2021-05-10  0.919290  0.606701  0.702239  5    one  NaN\n",
      "2021-05-11  0.040472  0.760895  0.391770  5    two  NaN\n",
      "2021-05-12  0.356875  0.460742  0.046852  5  three  1.0\n",
      "2021-05-13  0.958817  0.951671  0.269740  5   four  2.0\n",
      "2021-05-14  0.295673  0.445668  0.665057  5  three  3.0\n"
     ]
    }
   ],
   "source": [
    "df2.loc[:, 'd'] = np.array([5] * len(df2))\n",
    "print(df2)"
   ]
  },
  {
   "cell_type": "code",
   "execution_count": 121,
   "metadata": {},
   "outputs": [
    {
     "name": "stdout",
     "output_type": "stream",
     "text": [
      "                   a         b         c         d\n",
      "2021-05-09  0.119961  0.468303  0.505817  0.872104\n",
      "2021-05-10  0.919290  0.606701  0.702239  0.781662\n",
      "2021-05-11  0.040472  0.760895  0.391770  0.142076\n",
      "2021-05-12  0.356875  0.460742  0.046852  0.964362\n",
      "2021-05-13  0.958817  0.951671  0.269740  0.972632\n",
      "2021-05-14  0.295673  0.445668  0.665057  0.220061\n",
      "                   a         b         c         d\n",
      "2021-05-09 -0.119961 -0.468303 -0.505817 -0.872104\n",
      "2021-05-10 -0.919290 -0.606701 -0.702239 -0.781662\n",
      "2021-05-11 -0.040472 -0.760895 -0.391770 -0.142076\n",
      "2021-05-12 -0.356875 -0.460742 -0.046852 -0.964362\n",
      "2021-05-13 -0.958817 -0.951671 -0.269740 -0.972632\n",
      "2021-05-14 -0.295673 -0.445668 -0.665057 -0.220061\n"
     ]
    }
   ],
   "source": [
    "df3 = df.copy()\n",
    "print(df3)\n",
    "df3[df3 > 0] = -df3  # 用 where 条件赋值\n",
    "print(df3)"
   ]
  },
  {
   "cell_type": "markdown",
   "metadata": {
    "collapsed": true
   },
   "source": [
    "# 缺失值\n",
    "Pandas 主要用 np.nan 表示缺失数据。 计算时，默认不包含空值。详见缺失数据。\n",
    "\n",
    "重建索引（reindex）可以更改、添加、删除指定轴的索引，并返回数据副本，即**不更改原数据**。"
   ]
  },
  {
   "cell_type": "code",
   "execution_count": 20,
   "metadata": {},
   "outputs": [
    {
     "name": "stdout",
     "output_type": "stream",
     "text": [
      "                   a         b         c         d\n",
      "2021-05-09  0.194362  0.581930  0.016065  0.317141\n",
      "2021-05-10  0.137828  0.106331  0.357647  0.816161\n",
      "2021-05-11  0.487813  0.172038  0.475729  0.668828\n",
      "2021-05-12  0.445469  0.031866  0.260916  0.060886\n",
      "2021-05-13  0.422160  0.564189  0.206295  0.885352\n",
      "2021-05-14  0.015215  0.625490  0.939655  0.553077\n"
     ]
    }
   ],
   "source": [
    "print(df)"
   ]
  },
  {
   "cell_type": "code",
   "execution_count": 25,
   "metadata": {},
   "outputs": [
    {
     "name": "stdout",
     "output_type": "stream",
     "text": [
      "                   a         b         c         d   e\n",
      "2021-05-09  0.194362  0.581930  0.016065  0.317141 NaN\n",
      "2021-05-10  0.137828  0.106331  0.357647  0.816161 NaN\n",
      "2021-05-11  0.487813  0.172038  0.475729  0.668828 NaN\n",
      "2021-05-12  0.445469  0.031866  0.260916  0.060886 NaN\n",
      "                   a         b         c         d    e\n",
      "2021-05-09  0.194362  0.581930  0.016065  0.317141  1.0\n",
      "2021-05-10  0.137828  0.106331  0.357647  0.816161  1.0\n",
      "2021-05-11  0.487813  0.172038  0.475729  0.668828  NaN\n",
      "2021-05-12  0.445469  0.031866  0.260916  0.060886  NaN\n"
     ]
    }
   ],
   "source": [
    "df1 = df.reindex(index = dates[0:4], columns = list(df.columns) + ['e'])\n",
    "print(df1)\n",
    "\n",
    "df1.loc[dates[0]:dates[1], 'e'] = 1\n",
    "print(df1)"
   ]
  },
  {
   "cell_type": "code",
   "execution_count": 30,
   "metadata": {},
   "outputs": [
    {
     "data": {
      "text/html": [
       "<div>\n",
       "<style scoped>\n",
       "    .dataframe tbody tr th:only-of-type {\n",
       "        vertical-align: middle;\n",
       "    }\n",
       "\n",
       "    .dataframe tbody tr th {\n",
       "        vertical-align: top;\n",
       "    }\n",
       "\n",
       "    .dataframe thead th {\n",
       "        text-align: right;\n",
       "    }\n",
       "</style>\n",
       "<table border=\"1\" class=\"dataframe\">\n",
       "  <thead>\n",
       "    <tr style=\"text-align: right;\">\n",
       "      <th></th>\n",
       "      <th>a</th>\n",
       "      <th>b</th>\n",
       "      <th>c</th>\n",
       "      <th>d</th>\n",
       "      <th>e</th>\n",
       "    </tr>\n",
       "  </thead>\n",
       "  <tbody>\n",
       "    <tr>\n",
       "      <th>2021-05-09</th>\n",
       "      <td>0.194362</td>\n",
       "      <td>0.581930</td>\n",
       "      <td>0.016065</td>\n",
       "      <td>0.317141</td>\n",
       "      <td>1.0</td>\n",
       "    </tr>\n",
       "    <tr>\n",
       "      <th>2021-05-10</th>\n",
       "      <td>0.137828</td>\n",
       "      <td>0.106331</td>\n",
       "      <td>0.357647</td>\n",
       "      <td>0.816161</td>\n",
       "      <td>1.0</td>\n",
       "    </tr>\n",
       "  </tbody>\n",
       "</table>\n",
       "</div>"
      ],
      "text/plain": [
       "                   a         b         c         d    e\n",
       "2021-05-09  0.194362  0.581930  0.016065  0.317141  1.0\n",
       "2021-05-10  0.137828  0.106331  0.357647  0.816161  1.0"
      ]
     },
     "execution_count": 30,
     "metadata": {},
     "output_type": "execute_result"
    }
   ],
   "source": [
    "df1.dropna(how = 'any')       # 不会改变原dataframe"
   ]
  },
  {
   "cell_type": "code",
   "execution_count": 33,
   "metadata": {},
   "outputs": [
    {
     "data": {
      "text/html": [
       "<div>\n",
       "<style scoped>\n",
       "    .dataframe tbody tr th:only-of-type {\n",
       "        vertical-align: middle;\n",
       "    }\n",
       "\n",
       "    .dataframe tbody tr th {\n",
       "        vertical-align: top;\n",
       "    }\n",
       "\n",
       "    .dataframe thead th {\n",
       "        text-align: right;\n",
       "    }\n",
       "</style>\n",
       "<table border=\"1\" class=\"dataframe\">\n",
       "  <thead>\n",
       "    <tr style=\"text-align: right;\">\n",
       "      <th></th>\n",
       "      <th>a</th>\n",
       "      <th>b</th>\n",
       "      <th>c</th>\n",
       "      <th>d</th>\n",
       "      <th>e</th>\n",
       "    </tr>\n",
       "  </thead>\n",
       "  <tbody>\n",
       "    <tr>\n",
       "      <th>2021-05-09</th>\n",
       "      <td>0.194362</td>\n",
       "      <td>0.581930</td>\n",
       "      <td>0.016065</td>\n",
       "      <td>0.317141</td>\n",
       "      <td>1.0</td>\n",
       "    </tr>\n",
       "    <tr>\n",
       "      <th>2021-05-10</th>\n",
       "      <td>0.137828</td>\n",
       "      <td>0.106331</td>\n",
       "      <td>0.357647</td>\n",
       "      <td>0.816161</td>\n",
       "      <td>1.0</td>\n",
       "    </tr>\n",
       "    <tr>\n",
       "      <th>2021-05-11</th>\n",
       "      <td>0.487813</td>\n",
       "      <td>0.172038</td>\n",
       "      <td>0.475729</td>\n",
       "      <td>0.668828</td>\n",
       "      <td>5.0</td>\n",
       "    </tr>\n",
       "    <tr>\n",
       "      <th>2021-05-12</th>\n",
       "      <td>0.445469</td>\n",
       "      <td>0.031866</td>\n",
       "      <td>0.260916</td>\n",
       "      <td>0.060886</td>\n",
       "      <td>5.0</td>\n",
       "    </tr>\n",
       "  </tbody>\n",
       "</table>\n",
       "</div>"
      ],
      "text/plain": [
       "                   a         b         c         d    e\n",
       "2021-05-09  0.194362  0.581930  0.016065  0.317141  1.0\n",
       "2021-05-10  0.137828  0.106331  0.357647  0.816161  1.0\n",
       "2021-05-11  0.487813  0.172038  0.475729  0.668828  5.0\n",
       "2021-05-12  0.445469  0.031866  0.260916  0.060886  5.0"
      ]
     },
     "execution_count": 33,
     "metadata": {},
     "output_type": "execute_result"
    }
   ],
   "source": [
    "df1.fillna(value=5)         # 不会改变原dataframe"
   ]
  },
  {
   "cell_type": "code",
   "execution_count": 34,
   "metadata": {},
   "outputs": [
    {
     "data": {
      "text/html": [
       "<div>\n",
       "<style scoped>\n",
       "    .dataframe tbody tr th:only-of-type {\n",
       "        vertical-align: middle;\n",
       "    }\n",
       "\n",
       "    .dataframe tbody tr th {\n",
       "        vertical-align: top;\n",
       "    }\n",
       "\n",
       "    .dataframe thead th {\n",
       "        text-align: right;\n",
       "    }\n",
       "</style>\n",
       "<table border=\"1\" class=\"dataframe\">\n",
       "  <thead>\n",
       "    <tr style=\"text-align: right;\">\n",
       "      <th></th>\n",
       "      <th>a</th>\n",
       "      <th>b</th>\n",
       "      <th>c</th>\n",
       "      <th>d</th>\n",
       "      <th>e</th>\n",
       "    </tr>\n",
       "  </thead>\n",
       "  <tbody>\n",
       "    <tr>\n",
       "      <th>2021-05-09</th>\n",
       "      <td>False</td>\n",
       "      <td>False</td>\n",
       "      <td>False</td>\n",
       "      <td>False</td>\n",
       "      <td>False</td>\n",
       "    </tr>\n",
       "    <tr>\n",
       "      <th>2021-05-10</th>\n",
       "      <td>False</td>\n",
       "      <td>False</td>\n",
       "      <td>False</td>\n",
       "      <td>False</td>\n",
       "      <td>False</td>\n",
       "    </tr>\n",
       "    <tr>\n",
       "      <th>2021-05-11</th>\n",
       "      <td>False</td>\n",
       "      <td>False</td>\n",
       "      <td>False</td>\n",
       "      <td>False</td>\n",
       "      <td>True</td>\n",
       "    </tr>\n",
       "    <tr>\n",
       "      <th>2021-05-12</th>\n",
       "      <td>False</td>\n",
       "      <td>False</td>\n",
       "      <td>False</td>\n",
       "      <td>False</td>\n",
       "      <td>True</td>\n",
       "    </tr>\n",
       "  </tbody>\n",
       "</table>\n",
       "</div>"
      ],
      "text/plain": [
       "                a      b      c      d      e\n",
       "2021-05-09  False  False  False  False  False\n",
       "2021-05-10  False  False  False  False  False\n",
       "2021-05-11  False  False  False  False   True\n",
       "2021-05-12  False  False  False  False   True"
      ]
     },
     "execution_count": 34,
     "metadata": {},
     "output_type": "execute_result"
    }
   ],
   "source": [
    "pd.isna(df1)      # 提取 nan 值的布尔掩码"
   ]
  },
  {
   "cell_type": "markdown",
   "metadata": {},
   "source": [
    "# 运算"
   ]
  },
  {
   "cell_type": "code",
   "execution_count": 38,
   "metadata": {},
   "outputs": [
    {
     "name": "stdout",
     "output_type": "stream",
     "text": [
      "                   a         b         c         d\n",
      "2021-05-09  0.194362  0.581930  0.016065  0.317141\n",
      "2021-05-10  0.137828  0.106331  0.357647  0.816161\n",
      "2021-05-11  0.487813  0.172038  0.475729  0.668828\n",
      "2021-05-12  0.445469  0.031866  0.260916  0.060886\n",
      "2021-05-13  0.422160  0.564189  0.206295  0.885352\n",
      "2021-05-14  0.015215  0.625490  0.939655  0.553077\n"
     ]
    }
   ],
   "source": [
    "print(df)"
   ]
  },
  {
   "cell_type": "markdown",
   "metadata": {},
   "source": [
    "## 统计"
   ]
  },
  {
   "cell_type": "code",
   "execution_count": 39,
   "metadata": {},
   "outputs": [
    {
     "data": {
      "text/html": [
       "<div>\n",
       "<style scoped>\n",
       "    .dataframe tbody tr th:only-of-type {\n",
       "        vertical-align: middle;\n",
       "    }\n",
       "\n",
       "    .dataframe tbody tr th {\n",
       "        vertical-align: top;\n",
       "    }\n",
       "\n",
       "    .dataframe thead th {\n",
       "        text-align: right;\n",
       "    }\n",
       "</style>\n",
       "<table border=\"1\" class=\"dataframe\">\n",
       "  <thead>\n",
       "    <tr style=\"text-align: right;\">\n",
       "      <th></th>\n",
       "      <th>a</th>\n",
       "      <th>b</th>\n",
       "      <th>c</th>\n",
       "      <th>d</th>\n",
       "    </tr>\n",
       "  </thead>\n",
       "  <tbody>\n",
       "    <tr>\n",
       "      <th>count</th>\n",
       "      <td>6.000000</td>\n",
       "      <td>6.000000</td>\n",
       "      <td>6.000000</td>\n",
       "      <td>6.000000</td>\n",
       "    </tr>\n",
       "    <tr>\n",
       "      <th>mean</th>\n",
       "      <td>0.283808</td>\n",
       "      <td>0.346974</td>\n",
       "      <td>0.376051</td>\n",
       "      <td>0.550241</td>\n",
       "    </tr>\n",
       "    <tr>\n",
       "      <th>std</th>\n",
       "      <td>0.194086</td>\n",
       "      <td>0.271206</td>\n",
       "      <td>0.316097</td>\n",
       "      <td>0.313333</td>\n",
       "    </tr>\n",
       "    <tr>\n",
       "      <th>min</th>\n",
       "      <td>0.015215</td>\n",
       "      <td>0.031866</td>\n",
       "      <td>0.016065</td>\n",
       "      <td>0.060886</td>\n",
       "    </tr>\n",
       "    <tr>\n",
       "      <th>25%</th>\n",
       "      <td>0.151962</td>\n",
       "      <td>0.122758</td>\n",
       "      <td>0.219950</td>\n",
       "      <td>0.376125</td>\n",
       "    </tr>\n",
       "    <tr>\n",
       "      <th>50%</th>\n",
       "      <td>0.308261</td>\n",
       "      <td>0.368114</td>\n",
       "      <td>0.309282</td>\n",
       "      <td>0.610953</td>\n",
       "    </tr>\n",
       "    <tr>\n",
       "      <th>75%</th>\n",
       "      <td>0.439642</td>\n",
       "      <td>0.577495</td>\n",
       "      <td>0.446209</td>\n",
       "      <td>0.779328</td>\n",
       "    </tr>\n",
       "    <tr>\n",
       "      <th>max</th>\n",
       "      <td>0.487813</td>\n",
       "      <td>0.625490</td>\n",
       "      <td>0.939655</td>\n",
       "      <td>0.885352</td>\n",
       "    </tr>\n",
       "  </tbody>\n",
       "</table>\n",
       "</div>"
      ],
      "text/plain": [
       "              a         b         c         d\n",
       "count  6.000000  6.000000  6.000000  6.000000\n",
       "mean   0.283808  0.346974  0.376051  0.550241\n",
       "std    0.194086  0.271206  0.316097  0.313333\n",
       "min    0.015215  0.031866  0.016065  0.060886\n",
       "25%    0.151962  0.122758  0.219950  0.376125\n",
       "50%    0.308261  0.368114  0.309282  0.610953\n",
       "75%    0.439642  0.577495  0.446209  0.779328\n",
       "max    0.487813  0.625490  0.939655  0.885352"
      ]
     },
     "execution_count": 39,
     "metadata": {},
     "output_type": "execute_result"
    }
   ],
   "source": [
    "df.describe()"
   ]
  },
  {
   "cell_type": "code",
   "execution_count": 40,
   "metadata": {},
   "outputs": [
    {
     "data": {
      "text/plain": [
       "a    0.283808\n",
       "b    0.346974\n",
       "c    0.376051\n",
       "d    0.550241\n",
       "dtype: float64"
      ]
     },
     "execution_count": 40,
     "metadata": {},
     "output_type": "execute_result"
    }
   ],
   "source": [
    "df.mean()"
   ]
  },
  {
   "cell_type": "code",
   "execution_count": 41,
   "metadata": {},
   "outputs": [
    {
     "data": {
      "text/plain": [
       "2021-05-09    0.277375\n",
       "2021-05-10    0.354492\n",
       "2021-05-11    0.451102\n",
       "2021-05-12    0.199784\n",
       "2021-05-13    0.519499\n",
       "2021-05-14    0.533359\n",
       "Freq: D, dtype: float64"
      ]
     },
     "execution_count": 41,
     "metadata": {},
     "output_type": "execute_result"
    }
   ],
   "source": [
    "df.mean(axis=1)     # 在另一个轴(即，行)上执行同样的操作"
   ]
  },
  {
   "cell_type": "code",
   "execution_count": 46,
   "metadata": {},
   "outputs": [
    {
     "name": "stdout",
     "output_type": "stream",
     "text": [
      "2021-05-09    NaN\n",
      "2021-05-10    NaN\n",
      "2021-05-11    1.0\n",
      "2021-05-12    3.0\n",
      "2021-05-13    0.4\n",
      "2021-05-14    NaN\n",
      "Freq: D, dtype: float64\n"
     ]
    },
    {
     "data": {
      "text/html": [
       "<div>\n",
       "<style scoped>\n",
       "    .dataframe tbody tr th:only-of-type {\n",
       "        vertical-align: middle;\n",
       "    }\n",
       "\n",
       "    .dataframe tbody tr th {\n",
       "        vertical-align: top;\n",
       "    }\n",
       "\n",
       "    .dataframe thead th {\n",
       "        text-align: right;\n",
       "    }\n",
       "</style>\n",
       "<table border=\"1\" class=\"dataframe\">\n",
       "  <thead>\n",
       "    <tr style=\"text-align: right;\">\n",
       "      <th></th>\n",
       "      <th>a</th>\n",
       "      <th>b</th>\n",
       "      <th>c</th>\n",
       "      <th>d</th>\n",
       "    </tr>\n",
       "  </thead>\n",
       "  <tbody>\n",
       "    <tr>\n",
       "      <th>2021-05-09</th>\n",
       "      <td>NaN</td>\n",
       "      <td>NaN</td>\n",
       "      <td>NaN</td>\n",
       "      <td>NaN</td>\n",
       "    </tr>\n",
       "    <tr>\n",
       "      <th>2021-05-10</th>\n",
       "      <td>NaN</td>\n",
       "      <td>NaN</td>\n",
       "      <td>NaN</td>\n",
       "      <td>NaN</td>\n",
       "    </tr>\n",
       "    <tr>\n",
       "      <th>2021-05-11</th>\n",
       "      <td>-0.512187</td>\n",
       "      <td>-0.827962</td>\n",
       "      <td>-0.524271</td>\n",
       "      <td>-0.331172</td>\n",
       "    </tr>\n",
       "    <tr>\n",
       "      <th>2021-05-12</th>\n",
       "      <td>-2.554531</td>\n",
       "      <td>-2.968134</td>\n",
       "      <td>-2.739084</td>\n",
       "      <td>-2.939114</td>\n",
       "    </tr>\n",
       "    <tr>\n",
       "      <th>2021-05-13</th>\n",
       "      <td>0.022160</td>\n",
       "      <td>0.164189</td>\n",
       "      <td>-0.193705</td>\n",
       "      <td>0.485352</td>\n",
       "    </tr>\n",
       "    <tr>\n",
       "      <th>2021-05-14</th>\n",
       "      <td>NaN</td>\n",
       "      <td>NaN</td>\n",
       "      <td>NaN</td>\n",
       "      <td>NaN</td>\n",
       "    </tr>\n",
       "  </tbody>\n",
       "</table>\n",
       "</div>"
      ],
      "text/plain": [
       "                   a         b         c         d\n",
       "2021-05-09       NaN       NaN       NaN       NaN\n",
       "2021-05-10       NaN       NaN       NaN       NaN\n",
       "2021-05-11 -0.512187 -0.827962 -0.524271 -0.331172\n",
       "2021-05-12 -2.554531 -2.968134 -2.739084 -2.939114\n",
       "2021-05-13  0.022160  0.164189 -0.193705  0.485352\n",
       "2021-05-14       NaN       NaN       NaN       NaN"
      ]
     },
     "execution_count": 46,
     "metadata": {},
     "output_type": "execute_result"
    }
   ],
   "source": [
    "s = pd.Series([1, 3, 0.4, np.nan, 6, 7], index=dates).shift(2)\n",
    "print(s)\n",
    "\n",
    "df.sub(s, axis='index') # 不同维度对象运算时，要先对齐。 此外，Pandas 自动沿指定维度广播"
   ]
  },
  {
   "cell_type": "markdown",
   "metadata": {},
   "source": [
    "## Apply 函数"
   ]
  },
  {
   "cell_type": "code",
   "execution_count": 48,
   "metadata": {},
   "outputs": [
    {
     "name": "stdout",
     "output_type": "stream",
     "text": [
      "                   a         b         c         d\n",
      "2021-05-09  0.194362  0.581930  0.016065  0.317141\n",
      "2021-05-10  0.137828  0.106331  0.357647  0.816161\n",
      "2021-05-11  0.487813  0.172038  0.475729  0.668828\n",
      "2021-05-12  0.445469  0.031866  0.260916  0.060886\n",
      "2021-05-13  0.422160  0.564189  0.206295  0.885352\n",
      "2021-05-14  0.015215  0.625490  0.939655  0.553077\n"
     ]
    },
    {
     "data": {
      "text/html": [
       "<div>\n",
       "<style scoped>\n",
       "    .dataframe tbody tr th:only-of-type {\n",
       "        vertical-align: middle;\n",
       "    }\n",
       "\n",
       "    .dataframe tbody tr th {\n",
       "        vertical-align: top;\n",
       "    }\n",
       "\n",
       "    .dataframe thead th {\n",
       "        text-align: right;\n",
       "    }\n",
       "</style>\n",
       "<table border=\"1\" class=\"dataframe\">\n",
       "  <thead>\n",
       "    <tr style=\"text-align: right;\">\n",
       "      <th></th>\n",
       "      <th>a</th>\n",
       "      <th>b</th>\n",
       "      <th>c</th>\n",
       "      <th>d</th>\n",
       "    </tr>\n",
       "  </thead>\n",
       "  <tbody>\n",
       "    <tr>\n",
       "      <th>2021-05-09</th>\n",
       "      <td>0.194362</td>\n",
       "      <td>0.581930</td>\n",
       "      <td>0.016065</td>\n",
       "      <td>0.317141</td>\n",
       "    </tr>\n",
       "    <tr>\n",
       "      <th>2021-05-10</th>\n",
       "      <td>0.332191</td>\n",
       "      <td>0.688261</td>\n",
       "      <td>0.373712</td>\n",
       "      <td>1.133303</td>\n",
       "    </tr>\n",
       "    <tr>\n",
       "      <th>2021-05-11</th>\n",
       "      <td>0.820004</td>\n",
       "      <td>0.860299</td>\n",
       "      <td>0.849442</td>\n",
       "      <td>1.802131</td>\n",
       "    </tr>\n",
       "    <tr>\n",
       "      <th>2021-05-12</th>\n",
       "      <td>1.265473</td>\n",
       "      <td>0.892166</td>\n",
       "      <td>1.110358</td>\n",
       "      <td>1.863017</td>\n",
       "    </tr>\n",
       "    <tr>\n",
       "      <th>2021-05-13</th>\n",
       "      <td>1.687633</td>\n",
       "      <td>1.456355</td>\n",
       "      <td>1.316653</td>\n",
       "      <td>2.748369</td>\n",
       "    </tr>\n",
       "    <tr>\n",
       "      <th>2021-05-14</th>\n",
       "      <td>1.702848</td>\n",
       "      <td>2.081845</td>\n",
       "      <td>2.256307</td>\n",
       "      <td>3.301446</td>\n",
       "    </tr>\n",
       "  </tbody>\n",
       "</table>\n",
       "</div>"
      ],
      "text/plain": [
       "                   a         b         c         d\n",
       "2021-05-09  0.194362  0.581930  0.016065  0.317141\n",
       "2021-05-10  0.332191  0.688261  0.373712  1.133303\n",
       "2021-05-11  0.820004  0.860299  0.849442  1.802131\n",
       "2021-05-12  1.265473  0.892166  1.110358  1.863017\n",
       "2021-05-13  1.687633  1.456355  1.316653  2.748369\n",
       "2021-05-14  1.702848  2.081845  2.256307  3.301446"
      ]
     },
     "execution_count": 48,
     "metadata": {},
     "output_type": "execute_result"
    }
   ],
   "source": [
    "print(df)\n",
    "df.apply(np.cumsum)  # np.cumsum是累加函数"
   ]
  },
  {
   "cell_type": "code",
   "execution_count": 49,
   "metadata": {},
   "outputs": [
    {
     "data": {
      "text/plain": [
       "a    0.472598\n",
       "b    0.593624\n",
       "c    0.923590\n",
       "d    0.824466\n",
       "dtype: float64"
      ]
     },
     "execution_count": 49,
     "metadata": {},
     "output_type": "execute_result"
    }
   ],
   "source": [
    "df.apply(lambda x: x.max() - x.min())"
   ]
  },
  {
   "cell_type": "markdown",
   "metadata": {},
   "source": [
    "# 直方图"
   ]
  },
  {
   "cell_type": "code",
   "execution_count": 53,
   "metadata": {},
   "outputs": [
    {
     "name": "stdout",
     "output_type": "stream",
     "text": [
      "0    5\n",
      "1    3\n",
      "2    1\n",
      "3    1\n",
      "4    4\n",
      "5    4\n",
      "6    4\n",
      "7    6\n",
      "8    5\n",
      "9    2\n",
      "dtype: int32\n",
      "4    3\n",
      "5    2\n",
      "1    2\n",
      "6    1\n",
      "3    1\n",
      "2    1\n",
      "dtype: int64\n"
     ]
    }
   ],
   "source": [
    "s = pd.Series(np.random.randint(0, 7, size=10)) # [0, 7)是范围\n",
    "print(s)\n",
    "\n",
    "print(s.value_counts()) # 统计数量"
   ]
  },
  {
   "cell_type": "markdown",
   "metadata": {},
   "source": [
    "# 字符串\n",
    "Series 的 str 属性包含一组字符串处理功能，如下列代码所示。注意，str 的模式匹配默认使用正则表达式。详见矢量字符串方法"
   ]
  },
  {
   "cell_type": "code",
   "execution_count": 58,
   "metadata": {},
   "outputs": [
    {
     "name": "stdout",
     "output_type": "stream",
     "text": [
      "0       a\n",
      "1       b\n",
      "2       c\n",
      "3     zgq\n",
      "4     NaN\n",
      "5     cnn\n",
      "6    lstm\n",
      "dtype: object\n"
     ]
    }
   ],
   "source": [
    "s = pd.Series(['A', 'B', 'C', 'ZGq', np.nan, 'CNN', 'lstm'])\n",
    "print(s.str.lower())"
   ]
  },
  {
   "cell_type": "markdown",
   "metadata": {},
   "source": [
    "# 合并Merge"
   ]
  },
  {
   "cell_type": "markdown",
   "metadata": {},
   "source": [
    "## 结合Concat"
   ]
  },
  {
   "cell_type": "code",
   "execution_count": 61,
   "metadata": {},
   "outputs": [
    {
     "name": "stdout",
     "output_type": "stream",
     "text": [
      "    0   1   2   3\n",
      "0  20  58  91  82\n",
      "1  27  49   5  10\n",
      "2  20  65  77  89\n",
      "3  28  20   3  31\n",
      "4  72  57  51  33\n",
      "5   4  20  73  16\n",
      "6  57   5  30   8\n",
      "7  56  13  39   2\n",
      "8  81  70  63  24\n",
      "9  36  29  97  14\n"
     ]
    }
   ],
   "source": [
    "df = pd.DataFrame(np.random.randint(0, 100, 40).reshape(10, 4))\n",
    "print(df)"
   ]
  },
  {
   "cell_type": "code",
   "execution_count": 62,
   "metadata": {
    "collapsed": true
   },
   "outputs": [],
   "source": [
    "pieces = [df[:3], df[3:7], df[7:]] # 分解为多组"
   ]
  },
  {
   "cell_type": "code",
   "execution_count": 63,
   "metadata": {},
   "outputs": [
    {
     "data": {
      "text/html": [
       "<div>\n",
       "<style scoped>\n",
       "    .dataframe tbody tr th:only-of-type {\n",
       "        vertical-align: middle;\n",
       "    }\n",
       "\n",
       "    .dataframe tbody tr th {\n",
       "        vertical-align: top;\n",
       "    }\n",
       "\n",
       "    .dataframe thead th {\n",
       "        text-align: right;\n",
       "    }\n",
       "</style>\n",
       "<table border=\"1\" class=\"dataframe\">\n",
       "  <thead>\n",
       "    <tr style=\"text-align: right;\">\n",
       "      <th></th>\n",
       "      <th>0</th>\n",
       "      <th>1</th>\n",
       "      <th>2</th>\n",
       "      <th>3</th>\n",
       "    </tr>\n",
       "  </thead>\n",
       "  <tbody>\n",
       "    <tr>\n",
       "      <th>0</th>\n",
       "      <td>20</td>\n",
       "      <td>58</td>\n",
       "      <td>91</td>\n",
       "      <td>82</td>\n",
       "    </tr>\n",
       "    <tr>\n",
       "      <th>1</th>\n",
       "      <td>27</td>\n",
       "      <td>49</td>\n",
       "      <td>5</td>\n",
       "      <td>10</td>\n",
       "    </tr>\n",
       "    <tr>\n",
       "      <th>2</th>\n",
       "      <td>20</td>\n",
       "      <td>65</td>\n",
       "      <td>77</td>\n",
       "      <td>89</td>\n",
       "    </tr>\n",
       "    <tr>\n",
       "      <th>3</th>\n",
       "      <td>28</td>\n",
       "      <td>20</td>\n",
       "      <td>3</td>\n",
       "      <td>31</td>\n",
       "    </tr>\n",
       "    <tr>\n",
       "      <th>4</th>\n",
       "      <td>72</td>\n",
       "      <td>57</td>\n",
       "      <td>51</td>\n",
       "      <td>33</td>\n",
       "    </tr>\n",
       "    <tr>\n",
       "      <th>5</th>\n",
       "      <td>4</td>\n",
       "      <td>20</td>\n",
       "      <td>73</td>\n",
       "      <td>16</td>\n",
       "    </tr>\n",
       "    <tr>\n",
       "      <th>6</th>\n",
       "      <td>57</td>\n",
       "      <td>5</td>\n",
       "      <td>30</td>\n",
       "      <td>8</td>\n",
       "    </tr>\n",
       "    <tr>\n",
       "      <th>7</th>\n",
       "      <td>56</td>\n",
       "      <td>13</td>\n",
       "      <td>39</td>\n",
       "      <td>2</td>\n",
       "    </tr>\n",
       "    <tr>\n",
       "      <th>8</th>\n",
       "      <td>81</td>\n",
       "      <td>70</td>\n",
       "      <td>63</td>\n",
       "      <td>24</td>\n",
       "    </tr>\n",
       "    <tr>\n",
       "      <th>9</th>\n",
       "      <td>36</td>\n",
       "      <td>29</td>\n",
       "      <td>97</td>\n",
       "      <td>14</td>\n",
       "    </tr>\n",
       "  </tbody>\n",
       "</table>\n",
       "</div>"
      ],
      "text/plain": [
       "    0   1   2   3\n",
       "0  20  58  91  82\n",
       "1  27  49   5  10\n",
       "2  20  65  77  89\n",
       "3  28  20   3  31\n",
       "4  72  57  51  33\n",
       "5   4  20  73  16\n",
       "6  57   5  30   8\n",
       "7  56  13  39   2\n",
       "8  81  70  63  24\n",
       "9  36  29  97  14"
      ]
     },
     "execution_count": 63,
     "metadata": {},
     "output_type": "execute_result"
    }
   ],
   "source": [
    "pd.concat(pieces)"
   ]
  },
  {
   "cell_type": "markdown",
   "metadata": {},
   "source": [
    "## 连接join"
   ]
  },
  {
   "cell_type": "code",
   "execution_count": 66,
   "metadata": {},
   "outputs": [
    {
     "name": "stdout",
     "output_type": "stream",
     "text": [
      "   key  left_val\n",
      "0  foo         1\n",
      "1  foo         2\n",
      "   key  right_val\n",
      "0  foo          4\n",
      "1  foo          5\n",
      "   key  left_val  right_val\n",
      "0  foo         1          4\n",
      "1  foo         1          5\n",
      "2  foo         2          4\n",
      "3  foo         2          5\n"
     ]
    }
   ],
   "source": [
    "left = pd.DataFrame({'key':['foo', 'foo'], 'left_val':[1, 2]})\n",
    "print(left)\n",
    "right = pd.DataFrame({'key':['foo', 'foo'], 'right_val':[4, 5]})\n",
    "print(right)\n",
    "print(pd.merge(left, right, on='key'))"
   ]
  },
  {
   "cell_type": "code",
   "execution_count": 67,
   "metadata": {},
   "outputs": [
    {
     "name": "stdout",
     "output_type": "stream",
     "text": [
      "   key  left_val\n",
      "0  foo         1\n",
      "1  bar         2\n",
      "   key  right_val\n",
      "0  foo          4\n",
      "1  bar          5\n",
      "   key  left_val  right_val\n",
      "0  foo         1          4\n",
      "1  bar         2          5\n"
     ]
    }
   ],
   "source": [
    "left = pd.DataFrame({'key':['foo', 'bar'], 'left_val':[1, 2]})\n",
    "print(left)\n",
    "right = pd.DataFrame({'key':['foo', 'bar'], 'right_val':[4, 5]})\n",
    "print(right)\n",
    "print(pd.merge(left, right, on='key'))"
   ]
  },
  {
   "cell_type": "markdown",
   "metadata": {},
   "source": [
    "# 追加Append"
   ]
  },
  {
   "cell_type": "code",
   "execution_count": 72,
   "metadata": {},
   "outputs": [
    {
     "name": "stdout",
     "output_type": "stream",
     "text": [
      "          a         b         c         d\n",
      "0  0.643818  0.130053  0.476042  0.908364\n",
      "1  0.861220  0.303608  0.999696  0.374316\n",
      "2  0.349383  0.534909  0.901204  0.931647\n",
      "3  0.068667  0.304687  0.376849  0.068108\n",
      "4  0.916497  0.992258  0.486073  0.713529\n",
      "5  0.582673  0.500118  0.726882  0.330812\n",
      "6  0.494898  0.597207  0.989006  0.907708\n",
      "7  0.436702  0.506010  0.361808  0.952283\n",
      "a    0.068667\n",
      "b    0.304687\n",
      "c    0.376849\n",
      "d    0.068108\n",
      "Name: 3, dtype: float64\n",
      "          a         b         c         d\n",
      "0  0.643818  0.130053  0.476042  0.908364\n",
      "1  0.861220  0.303608  0.999696  0.374316\n",
      "2  0.349383  0.534909  0.901204  0.931647\n",
      "3  0.068667  0.304687  0.376849  0.068108\n",
      "4  0.916497  0.992258  0.486073  0.713529\n",
      "5  0.582673  0.500118  0.726882  0.330812\n",
      "6  0.494898  0.597207  0.989006  0.907708\n",
      "7  0.436702  0.506010  0.361808  0.952283\n",
      "8  0.068667  0.304687  0.376849  0.068108\n"
     ]
    }
   ],
   "source": [
    "df = pd.DataFrame(np.random.rand(8, 4) ,columns=['a', 'b', 'c', 'd'])\n",
    "print(df)\n",
    "\n",
    "s = df.iloc[3]\n",
    "print(s)\n",
    "\n",
    "print(df.append(s, ignore_index=True))"
   ]
  },
  {
   "cell_type": "markdown",
   "metadata": {},
   "source": [
    "# 分组Grouping\n",
    "`group by`指的是涵盖下列一项或多项步骤的处理流程：\n",
    "- 分割：按条件把数据分割成多组；\n",
    "- 应用：为每组单独应用函数；\n",
    "- 组合：将处理结果组合成一个数据结构。"
   ]
  },
  {
   "cell_type": "code",
   "execution_count": 83,
   "metadata": {},
   "outputs": [
    {
     "name": "stdout",
     "output_type": "stream",
     "text": [
      "     A      B  C  D\n",
      "0  foo    one  4  2\n",
      "1  bar    one  5  2\n",
      "2  foo    two  4  3\n",
      "3  bar  three  3  3\n",
      "4  foo    two  2  4\n",
      "5  bar    two  6  7\n",
      "6  foo    one  2  1\n",
      "7  bar  three  3  7\n"
     ]
    }
   ],
   "source": [
    "df = pd.DataFrame({\n",
    "    'A':['foo', 'bar', 'foo', 'bar', 'foo', 'bar', 'foo', 'bar'],\n",
    "    'B':['one', 'one', 'two', 'three', 'two', 'two', 'one', 'three'],\n",
    "    'C':np.random.randint(1, 8, 8),\n",
    "    'D':np.random.randint(1, 8, 8)\n",
    "})\n",
    "print(df)"
   ]
  },
  {
   "cell_type": "code",
   "execution_count": 84,
   "metadata": {},
   "outputs": [
    {
     "name": "stdout",
     "output_type": "stream",
     "text": [
      "      C   D\n",
      "A          \n",
      "bar  17  19\n",
      "foo  12  10\n"
     ]
    }
   ],
   "source": [
    "print(df.groupby('A').sum())"
   ]
  },
  {
   "cell_type": "code",
   "execution_count": 88,
   "metadata": {},
   "outputs": [
    {
     "name": "stdout",
     "output_type": "stream",
     "text": [
      "           C   D\n",
      "A   B           \n",
      "bar one    5   2\n",
      "    three  6  10\n",
      "    two    6   7\n",
      "foo one    6   3\n",
      "    two    6   7\n"
     ]
    }
   ],
   "source": [
    "print(df.groupby(['A', 'B']).sum())"
   ]
  },
  {
   "cell_type": "markdown",
   "metadata": {},
   "source": [
    "# 重塑Reshaping"
   ]
  },
  {
   "cell_type": "markdown",
   "metadata": {},
   "source": [
    "## 堆叠Stack"
   ]
  },
  {
   "cell_type": "code",
   "execution_count": 90,
   "metadata": {},
   "outputs": [
    {
     "data": {
      "text/plain": [
       "[('bar', 'one'),\n",
       " ('bar', 'two'),\n",
       " ('baz', 'one'),\n",
       " ('baz', 'two'),\n",
       " ('foo', 'one'),\n",
       " ('foo', 'two'),\n",
       " ('qux', 'one'),\n",
       " ('qux', 'two')]"
      ]
     },
     "execution_count": 90,
     "metadata": {},
     "output_type": "execute_result"
    }
   ],
   "source": [
    "tuples = list(zip(*[['bar', 'bar', 'baz', 'baz', 'foo', 'foo', 'qux', 'qux'],\n",
    "                    ['one', 'two', 'one', 'two', 'one', 'two', 'one', 'two']]))\n",
    "tuples"
   ]
  },
  {
   "cell_type": "code",
   "execution_count": 92,
   "metadata": {},
   "outputs": [
    {
     "name": "stdout",
     "output_type": "stream",
     "text": [
      "MultiIndex([('bar', 'one'),\n",
      "            ('bar', 'two'),\n",
      "            ('baz', 'one'),\n",
      "            ('baz', 'two'),\n",
      "            ('foo', 'one'),\n",
      "            ('foo', 'two'),\n",
      "            ('qux', 'one'),\n",
      "            ('qux', 'two')],\n",
      "           names=['first', 'second'])\n"
     ]
    }
   ],
   "source": [
    "index = pd.MultiIndex.from_tuples(tuples, names=['first', 'second'])  # 将元组列表转换为MultiIndex\n",
    "print(index)"
   ]
  },
  {
   "cell_type": "code",
   "execution_count": 98,
   "metadata": {},
   "outputs": [
    {
     "name": "stdout",
     "output_type": "stream",
     "text": [
      "                     A         B\n",
      "first second                    \n",
      "bar   one     1.742093  0.256200\n",
      "      two     1.329547 -0.732145\n",
      "baz   one     0.035586  0.316208\n",
      "      two     0.000559  0.357578\n",
      "foo   one    -0.590380 -1.764003\n",
      "      two     0.409041 -0.255502\n",
      "qux   one     0.606041 -0.013279\n",
      "      two     0.222806  0.767227\n"
     ]
    }
   ],
   "source": [
    "df = pd.DataFrame(np.random.randn(8, 2), index=index, columns=['A', 'B'])\n",
    "print(df)"
   ]
  },
  {
   "cell_type": "code",
   "execution_count": 105,
   "metadata": {},
   "outputs": [
    {
     "data": {
      "text/plain": [
       "first  second   \n",
       "bar    one     A    1.742093\n",
       "               B    0.256200\n",
       "       two     A    1.329547\n",
       "               B   -0.732145\n",
       "baz    one     A    0.035586\n",
       "               B    0.316208\n",
       "       two     A    0.000559\n",
       "               B    0.357578\n",
       "foo    one     A   -0.590380\n",
       "               B   -1.764003\n",
       "       two     A    0.409041\n",
       "               B   -0.255502\n",
       "qux    one     A    0.606041\n",
       "               B   -0.013279\n",
       "       two     A    0.222806\n",
       "               B    0.767227\n",
       "dtype: float64"
      ]
     },
     "execution_count": 105,
     "metadata": {},
     "output_type": "execute_result"
    }
   ],
   "source": [
    "stacked = df.stack()  # stack()方法把 DataFrame 列压缩至一层\n",
    "stacked"
   ]
  },
  {
   "cell_type": "code",
   "execution_count": 106,
   "metadata": {},
   "outputs": [
    {
     "data": {
      "text/html": [
       "<div>\n",
       "<style scoped>\n",
       "    .dataframe tbody tr th:only-of-type {\n",
       "        vertical-align: middle;\n",
       "    }\n",
       "\n",
       "    .dataframe tbody tr th {\n",
       "        vertical-align: top;\n",
       "    }\n",
       "\n",
       "    .dataframe thead th {\n",
       "        text-align: right;\n",
       "    }\n",
       "</style>\n",
       "<table border=\"1\" class=\"dataframe\">\n",
       "  <thead>\n",
       "    <tr style=\"text-align: right;\">\n",
       "      <th></th>\n",
       "      <th></th>\n",
       "      <th>A</th>\n",
       "      <th>B</th>\n",
       "    </tr>\n",
       "    <tr>\n",
       "      <th>first</th>\n",
       "      <th>second</th>\n",
       "      <th></th>\n",
       "      <th></th>\n",
       "    </tr>\n",
       "  </thead>\n",
       "  <tbody>\n",
       "    <tr>\n",
       "      <th rowspan=\"2\" valign=\"top\">bar</th>\n",
       "      <th>one</th>\n",
       "      <td>1.742093</td>\n",
       "      <td>0.256200</td>\n",
       "    </tr>\n",
       "    <tr>\n",
       "      <th>two</th>\n",
       "      <td>1.329547</td>\n",
       "      <td>-0.732145</td>\n",
       "    </tr>\n",
       "    <tr>\n",
       "      <th rowspan=\"2\" valign=\"top\">baz</th>\n",
       "      <th>one</th>\n",
       "      <td>0.035586</td>\n",
       "      <td>0.316208</td>\n",
       "    </tr>\n",
       "    <tr>\n",
       "      <th>two</th>\n",
       "      <td>0.000559</td>\n",
       "      <td>0.357578</td>\n",
       "    </tr>\n",
       "    <tr>\n",
       "      <th rowspan=\"2\" valign=\"top\">foo</th>\n",
       "      <th>one</th>\n",
       "      <td>-0.590380</td>\n",
       "      <td>-1.764003</td>\n",
       "    </tr>\n",
       "    <tr>\n",
       "      <th>two</th>\n",
       "      <td>0.409041</td>\n",
       "      <td>-0.255502</td>\n",
       "    </tr>\n",
       "    <tr>\n",
       "      <th rowspan=\"2\" valign=\"top\">qux</th>\n",
       "      <th>one</th>\n",
       "      <td>0.606041</td>\n",
       "      <td>-0.013279</td>\n",
       "    </tr>\n",
       "    <tr>\n",
       "      <th>two</th>\n",
       "      <td>0.222806</td>\n",
       "      <td>0.767227</td>\n",
       "    </tr>\n",
       "  </tbody>\n",
       "</table>\n",
       "</div>"
      ],
      "text/plain": [
       "                     A         B\n",
       "first second                    \n",
       "bar   one     1.742093  0.256200\n",
       "      two     1.329547 -0.732145\n",
       "baz   one     0.035586  0.316208\n",
       "      two     0.000559  0.357578\n",
       "foo   one    -0.590380 -1.764003\n",
       "      two     0.409041 -0.255502\n",
       "qux   one     0.606041 -0.013279\n",
       "      two     0.222806  0.767227"
      ]
     },
     "execution_count": 106,
     "metadata": {},
     "output_type": "execute_result"
    }
   ],
   "source": [
    "stacked.unstack()  # 压缩后的 DataFrame 或 Series 具有多层索引， stack() 的逆操作是 unstack()，默认为拆叠最后一层"
   ]
  },
  {
   "cell_type": "markdown",
   "metadata": {},
   "source": [
    "# 数据透视图Pivot Tables"
   ]
  },
  {
   "cell_type": "code",
   "execution_count": 122,
   "metadata": {},
   "outputs": [
    {
     "name": "stdout",
     "output_type": "stream",
     "text": [
      "        A  B    C  D  e\n",
      "0     one  A  foo  4  2\n",
      "1     one  B  foo  4  2\n",
      "2     two  C  foo  3  2\n",
      "3   three  A  bar  3  4\n",
      "4     one  B  bar  2  3\n",
      "5     one  C  bar  4  4\n",
      "6     two  A  foo  4  2\n",
      "7   three  B  foo  3  1\n",
      "8     one  C  foo  2  4\n",
      "9     one  A  bar  2  2\n",
      "10    two  B  bar  2  1\n",
      "11  three  C  bar  3  1\n"
     ]
    }
   ],
   "source": [
    "df = pd.DataFrame({\n",
    "    'A': ['one', 'one', 'two', 'three'] * 3,\n",
    "    'B': ['A', 'B', 'C'] * 4,\n",
    "    'C': ['foo', 'foo', 'foo', 'bar', 'bar', 'bar'] * 2,\n",
    "    'D': np.random.randint(1, 5, 12),\n",
    "    'e': np.random.randint(1, 5, 12)\n",
    "})\n",
    "print(df)"
   ]
  },
  {
   "cell_type": "code",
   "execution_count": 123,
   "metadata": {},
   "outputs": [
    {
     "data": {
      "text/html": [
       "<div>\n",
       "<style scoped>\n",
       "    .dataframe tbody tr th:only-of-type {\n",
       "        vertical-align: middle;\n",
       "    }\n",
       "\n",
       "    .dataframe tbody tr th {\n",
       "        vertical-align: top;\n",
       "    }\n",
       "\n",
       "    .dataframe thead th {\n",
       "        text-align: right;\n",
       "    }\n",
       "</style>\n",
       "<table border=\"1\" class=\"dataframe\">\n",
       "  <thead>\n",
       "    <tr style=\"text-align: right;\">\n",
       "      <th></th>\n",
       "      <th>C</th>\n",
       "      <th>bar</th>\n",
       "      <th>foo</th>\n",
       "    </tr>\n",
       "    <tr>\n",
       "      <th>A</th>\n",
       "      <th>B</th>\n",
       "      <th></th>\n",
       "      <th></th>\n",
       "    </tr>\n",
       "  </thead>\n",
       "  <tbody>\n",
       "    <tr>\n",
       "      <th rowspan=\"3\" valign=\"top\">one</th>\n",
       "      <th>A</th>\n",
       "      <td>2.0</td>\n",
       "      <td>2.0</td>\n",
       "    </tr>\n",
       "    <tr>\n",
       "      <th>B</th>\n",
       "      <td>3.0</td>\n",
       "      <td>2.0</td>\n",
       "    </tr>\n",
       "    <tr>\n",
       "      <th>C</th>\n",
       "      <td>4.0</td>\n",
       "      <td>4.0</td>\n",
       "    </tr>\n",
       "    <tr>\n",
       "      <th rowspan=\"3\" valign=\"top\">three</th>\n",
       "      <th>A</th>\n",
       "      <td>4.0</td>\n",
       "      <td>NaN</td>\n",
       "    </tr>\n",
       "    <tr>\n",
       "      <th>B</th>\n",
       "      <td>NaN</td>\n",
       "      <td>1.0</td>\n",
       "    </tr>\n",
       "    <tr>\n",
       "      <th>C</th>\n",
       "      <td>1.0</td>\n",
       "      <td>NaN</td>\n",
       "    </tr>\n",
       "    <tr>\n",
       "      <th rowspan=\"3\" valign=\"top\">two</th>\n",
       "      <th>A</th>\n",
       "      <td>NaN</td>\n",
       "      <td>2.0</td>\n",
       "    </tr>\n",
       "    <tr>\n",
       "      <th>B</th>\n",
       "      <td>1.0</td>\n",
       "      <td>NaN</td>\n",
       "    </tr>\n",
       "    <tr>\n",
       "      <th>C</th>\n",
       "      <td>NaN</td>\n",
       "      <td>2.0</td>\n",
       "    </tr>\n",
       "  </tbody>\n",
       "</table>\n",
       "</div>"
      ],
      "text/plain": [
       "C        bar  foo\n",
       "A     B          \n",
       "one   A  2.0  2.0\n",
       "      B  3.0  2.0\n",
       "      C  4.0  4.0\n",
       "three A  4.0  NaN\n",
       "      B  NaN  1.0\n",
       "      C  1.0  NaN\n",
       "two   A  NaN  2.0\n",
       "      B  1.0  NaN\n",
       "      C  NaN  2.0"
      ]
     },
     "execution_count": 123,
     "metadata": {},
     "output_type": "execute_result"
    }
   ],
   "source": [
    "pd.pivot_table(df, values='e', index=['A', 'B'], columns=['C'])"
   ]
  },
  {
   "cell_type": "markdown",
   "metadata": {},
   "source": [
    "# 时间序列TimeSeries\n",
    "Pandas 为频率转换时重采样提供了虽然简单易用，但强大高效的功能，如，将秒级的数据转换为 5 分钟为频率的数据。这种操作常见于财务应用程序，但又不仅限于此。详见时间序列"
   ]
  },
  {
   "cell_type": "code",
   "execution_count": 132,
   "metadata": {},
   "outputs": [
    {
     "name": "stdout",
     "output_type": "stream",
     "text": [
      "2021-05-14 00:00:00    228\n",
      "2021-05-14 00:00:01    295\n",
      "2021-05-14 00:00:02    460\n",
      "2021-05-14 00:00:03    261\n",
      "2021-05-14 00:00:04    171\n",
      "                      ... \n",
      "2021-05-14 00:01:35     60\n",
      "2021-05-14 00:01:36    367\n",
      "2021-05-14 00:01:37    396\n",
      "2021-05-14 00:01:38    491\n",
      "2021-05-14 00:01:39      1\n",
      "Freq: S, Length: 100, dtype: int32\n"
     ]
    }
   ],
   "source": [
    "rng = pd.date_range('05/14/2021', periods=100, freq='S')\n",
    "ts = pd.Series(np.random.randint(0, 500, len(rng)), index=rng)\n",
    "print(ts)"
   ]
  },
  {
   "cell_type": "code",
   "execution_count": 139,
   "metadata": {},
   "outputs": [
    {
     "name": "stdout",
     "output_type": "stream",
     "text": [
      "2021-05-14    25852\n",
      "Freq: 5T, dtype: int32\n"
     ]
    }
   ],
   "source": [
    "print(ts.resample('5Min').sum())"
   ]
  },
  {
   "cell_type": "code",
   "execution_count": 142,
   "metadata": {},
   "outputs": [
    {
     "data": {
      "text/plain": [
       "2021-05-14 00:00:00+00:00    228\n",
       "2021-05-14 00:00:01+00:00    295\n",
       "2021-05-14 00:00:02+00:00    460\n",
       "2021-05-14 00:00:03+00:00    261\n",
       "2021-05-14 00:00:04+00:00    171\n",
       "                            ... \n",
       "2021-05-14 00:01:35+00:00     60\n",
       "2021-05-14 00:01:36+00:00    367\n",
       "2021-05-14 00:01:37+00:00    396\n",
       "2021-05-14 00:01:38+00:00    491\n",
       "2021-05-14 00:01:39+00:00      1\n",
       "Freq: S, Length: 100, dtype: int32"
      ]
     },
     "execution_count": 142,
     "metadata": {},
     "output_type": "execute_result"
    }
   ],
   "source": [
    "ts_utc = ts.tz_localize('UTC')  # 时区表示\n",
    "ts_utc"
   ]
  },
  {
   "cell_type": "code",
   "execution_count": 143,
   "metadata": {},
   "outputs": [
    {
     "data": {
      "text/plain": [
       "2021-05-13 20:00:00-04:00    228\n",
       "2021-05-13 20:00:01-04:00    295\n",
       "2021-05-13 20:00:02-04:00    460\n",
       "2021-05-13 20:00:03-04:00    261\n",
       "2021-05-13 20:00:04-04:00    171\n",
       "                            ... \n",
       "2021-05-13 20:01:35-04:00     60\n",
       "2021-05-13 20:01:36-04:00    367\n",
       "2021-05-13 20:01:37-04:00    396\n",
       "2021-05-13 20:01:38-04:00    491\n",
       "2021-05-13 20:01:39-04:00      1\n",
       "Freq: S, Length: 100, dtype: int32"
      ]
     },
     "execution_count": 143,
     "metadata": {},
     "output_type": "execute_result"
    }
   ],
   "source": [
    "ts_utc.tz_convert('US/Eastern')"
   ]
  },
  {
   "cell_type": "code",
   "execution_count": 148,
   "metadata": {},
   "outputs": [
    {
     "name": "stdout",
     "output_type": "stream",
     "text": [
      "2021-01-31   -0.618780\n",
      "2021-02-28    0.813643\n",
      "2021-03-31   -0.240078\n",
      "2021-04-30    0.738790\n",
      "2021-05-31   -0.769049\n",
      "Freq: M, dtype: float64\n",
      "2021-01   -0.618780\n",
      "2021-02    0.813643\n",
      "2021-03   -0.240078\n",
      "2021-04    0.738790\n",
      "2021-05   -0.769049\n",
      "Freq: M, dtype: float64\n"
     ]
    },
    {
     "data": {
      "text/plain": [
       "2021-01-01   -0.618780\n",
       "2021-02-01    0.813643\n",
       "2021-03-01   -0.240078\n",
       "2021-04-01    0.738790\n",
       "2021-05-01   -0.769049\n",
       "Freq: MS, dtype: float64"
      ]
     },
     "execution_count": 148,
     "metadata": {},
     "output_type": "execute_result"
    }
   ],
   "source": [
    "# 转换时间段\n",
    "rng = pd.date_range('1/1/2021', periods=5, freq='M')\n",
    "ts = pd.Series(np.random.randn(len(rng)), index=rng)\n",
    "print(ts)\n",
    "\n",
    "ps = ts.to_period()\n",
    "print(ps)\n",
    "\n",
    "ps.to_timestamp()"
   ]
  },
  {
   "cell_type": "code",
   "execution_count": 154,
   "metadata": {},
   "outputs": [
    {
     "data": {
      "text/plain": [
       "2010-03-01 09:00   -0.834009\n",
       "2010-06-01 09:00   -0.760466\n",
       "2010-09-01 09:00    0.091813\n",
       "2010-12-01 09:00    0.310896\n",
       "2011-03-01 09:00    0.106975\n",
       "Freq: H, dtype: float64"
      ]
     },
     "execution_count": 154,
     "metadata": {},
     "output_type": "execute_result"
    }
   ],
   "source": [
    "prng = pd.period_range('2010Q1', '2020Q4', freq='Q-NOV')\n",
    "ts = pd.Series(np.random.randn(len(prng)), prng)\n",
    "ts.index = (prng.asfreq('M', 'e') + 1).asfreq('H', 's') + 9\n",
    "ts.head()"
   ]
  },
  {
   "cell_type": "markdown",
   "metadata": {},
   "source": [
    "# 类别型Categoricals"
   ]
  },
  {
   "cell_type": "code",
   "execution_count": 156,
   "metadata": {},
   "outputs": [
    {
     "data": {
      "text/html": [
       "<div>\n",
       "<style scoped>\n",
       "    .dataframe tbody tr th:only-of-type {\n",
       "        vertical-align: middle;\n",
       "    }\n",
       "\n",
       "    .dataframe tbody tr th {\n",
       "        vertical-align: top;\n",
       "    }\n",
       "\n",
       "    .dataframe thead th {\n",
       "        text-align: right;\n",
       "    }\n",
       "</style>\n",
       "<table border=\"1\" class=\"dataframe\">\n",
       "  <thead>\n",
       "    <tr style=\"text-align: right;\">\n",
       "      <th></th>\n",
       "      <th>id</th>\n",
       "      <th>raw_grade</th>\n",
       "    </tr>\n",
       "  </thead>\n",
       "  <tbody>\n",
       "    <tr>\n",
       "      <th>0</th>\n",
       "      <td>1</td>\n",
       "      <td>a</td>\n",
       "    </tr>\n",
       "    <tr>\n",
       "      <th>1</th>\n",
       "      <td>2</td>\n",
       "      <td>b</td>\n",
       "    </tr>\n",
       "    <tr>\n",
       "      <th>2</th>\n",
       "      <td>3</td>\n",
       "      <td>b</td>\n",
       "    </tr>\n",
       "    <tr>\n",
       "      <th>3</th>\n",
       "      <td>4</td>\n",
       "      <td>a</td>\n",
       "    </tr>\n",
       "    <tr>\n",
       "      <th>4</th>\n",
       "      <td>5</td>\n",
       "      <td>a</td>\n",
       "    </tr>\n",
       "    <tr>\n",
       "      <th>5</th>\n",
       "      <td>6</td>\n",
       "      <td>e</td>\n",
       "    </tr>\n",
       "  </tbody>\n",
       "</table>\n",
       "</div>"
      ],
      "text/plain": [
       "   id raw_grade\n",
       "0   1         a\n",
       "1   2         b\n",
       "2   3         b\n",
       "3   4         a\n",
       "4   5         a\n",
       "5   6         e"
      ]
     },
     "execution_count": 156,
     "metadata": {},
     "output_type": "execute_result"
    }
   ],
   "source": [
    "df = pd.DataFrame({\"id\": [1, 2, 3, 4, 5, 6],\n",
    "                   \"raw_grade\": ['a', 'b', 'b', 'a', 'a', 'e']})\n",
    "df"
   ]
  },
  {
   "cell_type": "code",
   "execution_count": 158,
   "metadata": {},
   "outputs": [
    {
     "name": "stdout",
     "output_type": "stream",
     "text": [
      "0    a\n",
      "1    b\n",
      "2    b\n",
      "3    a\n",
      "4    a\n",
      "5    e\n",
      "Name: grade, dtype: category\n",
      "Categories (3, object): ['a', 'b', 'e']\n",
      "   id raw_grade grade\n",
      "0   1         a     a\n",
      "1   2         b     b\n",
      "2   3         b     b\n",
      "3   4         a     a\n",
      "4   5         a     a\n",
      "5   6         e     e\n"
     ]
    }
   ],
   "source": [
    "df[\"grade\"] = df[\"raw_grade\"].astype(\"category\")\n",
    "print(df[\"grade\"])\n",
    "print(df)"
   ]
  },
  {
   "cell_type": "code",
   "execution_count": 159,
   "metadata": {
    "collapsed": true
   },
   "outputs": [],
   "source": [
    "df[\"grade\"].cat.categories = [\"very good\", \"good\", \"very bad\"]"
   ]
  },
  {
   "cell_type": "code",
   "execution_count": 160,
   "metadata": {},
   "outputs": [
    {
     "data": {
      "text/html": [
       "<div>\n",
       "<style scoped>\n",
       "    .dataframe tbody tr th:only-of-type {\n",
       "        vertical-align: middle;\n",
       "    }\n",
       "\n",
       "    .dataframe tbody tr th {\n",
       "        vertical-align: top;\n",
       "    }\n",
       "\n",
       "    .dataframe thead th {\n",
       "        text-align: right;\n",
       "    }\n",
       "</style>\n",
       "<table border=\"1\" class=\"dataframe\">\n",
       "  <thead>\n",
       "    <tr style=\"text-align: right;\">\n",
       "      <th></th>\n",
       "      <th>id</th>\n",
       "      <th>raw_grade</th>\n",
       "      <th>grade</th>\n",
       "    </tr>\n",
       "  </thead>\n",
       "  <tbody>\n",
       "    <tr>\n",
       "      <th>0</th>\n",
       "      <td>1</td>\n",
       "      <td>a</td>\n",
       "      <td>very good</td>\n",
       "    </tr>\n",
       "    <tr>\n",
       "      <th>1</th>\n",
       "      <td>2</td>\n",
       "      <td>b</td>\n",
       "      <td>good</td>\n",
       "    </tr>\n",
       "    <tr>\n",
       "      <th>2</th>\n",
       "      <td>3</td>\n",
       "      <td>b</td>\n",
       "      <td>good</td>\n",
       "    </tr>\n",
       "    <tr>\n",
       "      <th>3</th>\n",
       "      <td>4</td>\n",
       "      <td>a</td>\n",
       "      <td>very good</td>\n",
       "    </tr>\n",
       "    <tr>\n",
       "      <th>4</th>\n",
       "      <td>5</td>\n",
       "      <td>a</td>\n",
       "      <td>very good</td>\n",
       "    </tr>\n",
       "    <tr>\n",
       "      <th>5</th>\n",
       "      <td>6</td>\n",
       "      <td>e</td>\n",
       "      <td>very bad</td>\n",
       "    </tr>\n",
       "  </tbody>\n",
       "</table>\n",
       "</div>"
      ],
      "text/plain": [
       "   id raw_grade      grade\n",
       "0   1         a  very good\n",
       "1   2         b       good\n",
       "2   3         b       good\n",
       "3   4         a  very good\n",
       "4   5         a  very good\n",
       "5   6         e   very bad"
      ]
     },
     "execution_count": 160,
     "metadata": {},
     "output_type": "execute_result"
    }
   ],
   "source": [
    "df"
   ]
  },
  {
   "cell_type": "markdown",
   "metadata": {},
   "source": [
    " # 可视化"
   ]
  },
  {
   "cell_type": "code",
   "execution_count": 170,
   "metadata": {},
   "outputs": [
    {
     "data": {
      "text/plain": [
       "<AxesSubplot:>"
      ]
     },
     "execution_count": 170,
     "metadata": {},
     "output_type": "execute_result"
    },
    {
     "data": {
      "image/png": "[encoded data removed]",
      "text/plain": [
       "<Figure size 432x288 with 1 Axes>"
      ]
     },
     "metadata": {},
     "output_type": "display_data"
    }
   ],
   "source": [
    "import matplotlib.pyplot as plt\n",
    "%matplotlib inline\n",
    "ts = pd.Series(np.random.randn(1000),index=pd.date_range('1/1/2021', periods=1000))\n",
    "ts = ts.cumsum()\n",
    "ts.plot()"
   ]
  },
  {
   "cell_type": "code",
   "execution_count": 175,
   "metadata": {},
   "outputs": [
    {
     "data": {
      "text/plain": [
       "<matplotlib.legend.Legend at 0x259a3dd57f0>"
      ]
     },
     "execution_count": 175,
     "metadata": {},
     "output_type": "execute_result"
    },
    {
     "data": {
      "text/plain": [
       "<Figure size 432x288 with 0 Axes>"
      ]
     },
     "metadata": {},
     "output_type": "display_data"
    },
    {
     "data": {
      "image/png": "[encoded data removed]",
      "text/plain": [
       "<Figure size 432x288 with 1 Axes>"
      ]
     },
     "metadata": {},
     "output_type": "display_data"
    }
   ],
   "source": [
    "df = pd.DataFrame(np.random.randn(1000, 4), index=ts.index,\n",
    "                   columns=['A', 'B', 'C', 'D'])\n",
    "df = df.cumsum()\n",
    "plt.figure()\n",
    "df.plot()\n",
    "plt.legend(loc='best')"
   ]
  },
  {
   "cell_type": "markdown",
   "metadata": {},
   "source": [
    "# CSV"
   ]
  },
  {
   "cell_type": "code",
   "execution_count": 176,
   "metadata": {
    "collapsed": true
   },
   "outputs": [],
   "source": [
    "df.to_csv('foo.csv')"
   ]
  },
  {
   "cell_type": "code",
   "execution_count": 177,
   "metadata": {},
   "outputs": [
    {
     "data": {
      "text/html": [
       "<div>\n",
       "<style scoped>\n",
       "    .dataframe tbody tr th:only-of-type {\n",
       "        vertical-align: middle;\n",
       "    }\n",
       "\n",
       "    .dataframe tbody tr th {\n",
       "        vertical-align: top;\n",
       "    }\n",
       "\n",
       "    .dataframe thead th {\n",
       "        text-align: right;\n",
       "    }\n",
       "</style>\n",
       "<table border=\"1\" class=\"dataframe\">\n",
       "  <thead>\n",
       "    <tr style=\"text-align: right;\">\n",
       "      <th></th>\n",
       "      <th>Unnamed: 0</th>\n",
       "      <th>A</th>\n",
       "      <th>B</th>\n",
       "      <th>C</th>\n",
       "      <th>D</th>\n",
       "    </tr>\n",
       "  </thead>\n",
       "  <tbody>\n",
       "    <tr>\n",
       "      <th>0</th>\n",
       "      <td>2021-01-01</td>\n",
       "      <td>-1.248345</td>\n",
       "      <td>0.192553</td>\n",
       "      <td>0.442364</td>\n",
       "      <td>0.444710</td>\n",
       "    </tr>\n",
       "    <tr>\n",
       "      <th>1</th>\n",
       "      <td>2021-01-02</td>\n",
       "      <td>1.116153</td>\n",
       "      <td>0.121536</td>\n",
       "      <td>0.964706</td>\n",
       "      <td>0.729129</td>\n",
       "    </tr>\n",
       "    <tr>\n",
       "      <th>2</th>\n",
       "      <td>2021-01-03</td>\n",
       "      <td>1.196305</td>\n",
       "      <td>1.984165</td>\n",
       "      <td>0.631357</td>\n",
       "      <td>1.086882</td>\n",
       "    </tr>\n",
       "    <tr>\n",
       "      <th>3</th>\n",
       "      <td>2021-01-04</td>\n",
       "      <td>1.306433</td>\n",
       "      <td>1.898015</td>\n",
       "      <td>0.734573</td>\n",
       "      <td>-0.722688</td>\n",
       "    </tr>\n",
       "    <tr>\n",
       "      <th>4</th>\n",
       "      <td>2021-01-05</td>\n",
       "      <td>1.729657</td>\n",
       "      <td>1.644555</td>\n",
       "      <td>0.331919</td>\n",
       "      <td>-1.255173</td>\n",
       "    </tr>\n",
       "    <tr>\n",
       "      <th>...</th>\n",
       "      <td>...</td>\n",
       "      <td>...</td>\n",
       "      <td>...</td>\n",
       "      <td>...</td>\n",
       "      <td>...</td>\n",
       "    </tr>\n",
       "    <tr>\n",
       "      <th>995</th>\n",
       "      <td>2023-09-23</td>\n",
       "      <td>-26.899202</td>\n",
       "      <td>17.800042</td>\n",
       "      <td>54.017799</td>\n",
       "      <td>-40.304920</td>\n",
       "    </tr>\n",
       "    <tr>\n",
       "      <th>996</th>\n",
       "      <td>2023-09-24</td>\n",
       "      <td>-27.672108</td>\n",
       "      <td>19.204610</td>\n",
       "      <td>55.248899</td>\n",
       "      <td>-41.590583</td>\n",
       "    </tr>\n",
       "    <tr>\n",
       "      <th>997</th>\n",
       "      <td>2023-09-25</td>\n",
       "      <td>-29.600809</td>\n",
       "      <td>19.371874</td>\n",
       "      <td>55.878157</td>\n",
       "      <td>-40.921985</td>\n",
       "    </tr>\n",
       "    <tr>\n",
       "      <th>998</th>\n",
       "      <td>2023-09-26</td>\n",
       "      <td>-29.299964</td>\n",
       "      <td>20.435790</td>\n",
       "      <td>54.732901</td>\n",
       "      <td>-41.182189</td>\n",
       "    </tr>\n",
       "    <tr>\n",
       "      <th>999</th>\n",
       "      <td>2023-09-27</td>\n",
       "      <td>-30.038024</td>\n",
       "      <td>20.805356</td>\n",
       "      <td>56.002983</td>\n",
       "      <td>-40.331851</td>\n",
       "    </tr>\n",
       "  </tbody>\n",
       "</table>\n",
       "<p>1000 rows × 5 columns</p>\n",
       "</div>"
      ],
      "text/plain": [
       "     Unnamed: 0          A          B          C          D\n",
       "0    2021-01-01  -1.248345   0.192553   0.442364   0.444710\n",
       "1    2021-01-02   1.116153   0.121536   0.964706   0.729129\n",
       "2    2021-01-03   1.196305   1.984165   0.631357   1.086882\n",
       "3    2021-01-04   1.306433   1.898015   0.734573  -0.722688\n",
       "4    2021-01-05   1.729657   1.644555   0.331919  -1.255173\n",
       "..          ...        ...        ...        ...        ...\n",
       "995  2023-09-23 -26.899202  17.800042  54.017799 -40.304920\n",
       "996  2023-09-24 -27.672108  19.204610  55.248899 -41.590583\n",
       "997  2023-09-25 -29.600809  19.371874  55.878157 -40.921985\n",
       "998  2023-09-26 -29.299964  20.435790  54.732901 -41.182189\n",
       "999  2023-09-27 -30.038024  20.805356  56.002983 -40.331851\n",
       "\n",
       "[1000 rows x 5 columns]"
      ]
     },
     "execution_count": 177,
     "metadata": {},
     "output_type": "execute_result"
    }
   ],
   "source": [
    "pd.read_csv('foo.csv')"
   ]
  },
  {
   "cell_type": "markdown",
   "metadata": {},
   "source": [
    "# HDF5"
   ]
  },
  {
   "cell_type": "code",
   "execution_count": 179,
   "metadata": {},
   "outputs": [],
   "source": [
    "df.to_hdf('foo.h5', 'df')"
   ]
  },
  {
   "cell_type": "code",
   "execution_count": 180,
   "metadata": {},
   "outputs": [
    {
     "data": {
      "text/html": [
       "<div>\n",
       "<style scoped>\n",
       "    .dataframe tbody tr th:only-of-type {\n",
       "        vertical-align: middle;\n",
       "    }\n",
       "\n",
       "    .dataframe tbody tr th {\n",
       "        vertical-align: top;\n",
       "    }\n",
       "\n",
       "    .dataframe thead th {\n",
       "        text-align: right;\n",
       "    }\n",
       "</style>\n",
       "<table border=\"1\" class=\"dataframe\">\n",
       "  <thead>\n",
       "    <tr style=\"text-align: right;\">\n",
       "      <th></th>\n",
       "      <th>A</th>\n",
       "      <th>B</th>\n",
       "      <th>C</th>\n",
       "      <th>D</th>\n",
       "    </tr>\n",
       "  </thead>\n",
       "  <tbody>\n",
       "    <tr>\n",
       "      <th>2021-01-01</th>\n",
       "      <td>-1.248345</td>\n",
       "      <td>0.192553</td>\n",
       "      <td>0.442364</td>\n",
       "      <td>0.444710</td>\n",
       "    </tr>\n",
       "    <tr>\n",
       "      <th>2021-01-02</th>\n",
       "      <td>1.116153</td>\n",
       "      <td>0.121536</td>\n",
       "      <td>0.964706</td>\n",
       "      <td>0.729129</td>\n",
       "    </tr>\n",
       "    <tr>\n",
       "      <th>2021-01-03</th>\n",
       "      <td>1.196305</td>\n",
       "      <td>1.984165</td>\n",
       "      <td>0.631357</td>\n",
       "      <td>1.086882</td>\n",
       "    </tr>\n",
       "    <tr>\n",
       "      <th>2021-01-04</th>\n",
       "      <td>1.306433</td>\n",
       "      <td>1.898015</td>\n",
       "      <td>0.734573</td>\n",
       "      <td>-0.722688</td>\n",
       "    </tr>\n",
       "    <tr>\n",
       "      <th>2021-01-05</th>\n",
       "      <td>1.729657</td>\n",
       "      <td>1.644555</td>\n",
       "      <td>0.331919</td>\n",
       "      <td>-1.255173</td>\n",
       "    </tr>\n",
       "    <tr>\n",
       "      <th>...</th>\n",
       "      <td>...</td>\n",
       "      <td>...</td>\n",
       "      <td>...</td>\n",
       "      <td>...</td>\n",
       "    </tr>\n",
       "    <tr>\n",
       "      <th>2023-09-23</th>\n",
       "      <td>-26.899202</td>\n",
       "      <td>17.800042</td>\n",
       "      <td>54.017799</td>\n",
       "      <td>-40.304920</td>\n",
       "    </tr>\n",
       "    <tr>\n",
       "      <th>2023-09-24</th>\n",
       "      <td>-27.672108</td>\n",
       "      <td>19.204610</td>\n",
       "      <td>55.248899</td>\n",
       "      <td>-41.590583</td>\n",
       "    </tr>\n",
       "    <tr>\n",
       "      <th>2023-09-25</th>\n",
       "      <td>-29.600809</td>\n",
       "      <td>19.371874</td>\n",
       "      <td>55.878157</td>\n",
       "      <td>-40.921985</td>\n",
       "    </tr>\n",
       "    <tr>\n",
       "      <th>2023-09-26</th>\n",
       "      <td>-29.299964</td>\n",
       "      <td>20.435790</td>\n",
       "      <td>54.732901</td>\n",
       "      <td>-41.182189</td>\n",
       "    </tr>\n",
       "    <tr>\n",
       "      <th>2023-09-27</th>\n",
       "      <td>-30.038024</td>\n",
       "      <td>20.805356</td>\n",
       "      <td>56.002983</td>\n",
       "      <td>-40.331851</td>\n",
       "    </tr>\n",
       "  </tbody>\n",
       "</table>\n",
       "<p>1000 rows × 4 columns</p>\n",
       "</div>"
      ],
      "text/plain": [
       "                    A          B          C          D\n",
       "2021-01-01  -1.248345   0.192553   0.442364   0.444710\n",
       "2021-01-02   1.116153   0.121536   0.964706   0.729129\n",
       "2021-01-03   1.196305   1.984165   0.631357   1.086882\n",
       "2021-01-04   1.306433   1.898015   0.734573  -0.722688\n",
       "2021-01-05   1.729657   1.644555   0.331919  -1.255173\n",
       "...               ...        ...        ...        ...\n",
       "2023-09-23 -26.899202  17.800042  54.017799 -40.304920\n",
       "2023-09-24 -27.672108  19.204610  55.248899 -41.590583\n",
       "2023-09-25 -29.600809  19.371874  55.878157 -40.921985\n",
       "2023-09-26 -29.299964  20.435790  54.732901 -41.182189\n",
       "2023-09-27 -30.038024  20.805356  56.002983 -40.331851\n",
       "\n",
       "[1000 rows x 4 columns]"
      ]
     },
     "execution_count": 180,
     "metadata": {},
     "output_type": "execute_result"
    }
   ],
   "source": [
    "pd.read_hdf('foo.h5', 'df')"
   ]
  },
  {
   "cell_type": "markdown",
   "metadata": {},
   "source": [
    "# EXCEL"
   ]
  },
  {
   "cell_type": "code",
   "execution_count": 191,
   "metadata": {},
   "outputs": [],
   "source": [
    "df.to_excel('foo1.xlsx', sheet_name='Sheet1')"
   ]
  },
  {
   "cell_type": "code",
   "execution_count": 193,
   "metadata": {},
   "outputs": [
    {
     "data": {
      "text/html": [
       "<div>\n",
       "<style scoped>\n",
       "    .dataframe tbody tr th:only-of-type {\n",
       "        vertical-align: middle;\n",
       "    }\n",
       "\n",
       "    .dataframe tbody tr th {\n",
       "        vertical-align: top;\n",
       "    }\n",
       "\n",
       "    .dataframe thead th {\n",
       "        text-align: right;\n",
       "    }\n",
       "</style>\n",
       "<table border=\"1\" class=\"dataframe\">\n",
       "  <thead>\n",
       "    <tr style=\"text-align: right;\">\n",
       "      <th></th>\n",
       "      <th>Unnamed: 0</th>\n",
       "      <th>A</th>\n",
       "      <th>B</th>\n",
       "      <th>C</th>\n",
       "      <th>D</th>\n",
       "    </tr>\n",
       "  </thead>\n",
       "  <tbody>\n",
       "    <tr>\n",
       "      <th>0</th>\n",
       "      <td>2021-01-01</td>\n",
       "      <td>-1.248345</td>\n",
       "      <td>0.192553</td>\n",
       "      <td>0.442364</td>\n",
       "      <td>0.444710</td>\n",
       "    </tr>\n",
       "    <tr>\n",
       "      <th>1</th>\n",
       "      <td>2021-01-02</td>\n",
       "      <td>1.116153</td>\n",
       "      <td>0.121536</td>\n",
       "      <td>0.964706</td>\n",
       "      <td>0.729129</td>\n",
       "    </tr>\n",
       "    <tr>\n",
       "      <th>2</th>\n",
       "      <td>2021-01-03</td>\n",
       "      <td>1.196305</td>\n",
       "      <td>1.984165</td>\n",
       "      <td>0.631357</td>\n",
       "      <td>1.086882</td>\n",
       "    </tr>\n",
       "    <tr>\n",
       "      <th>3</th>\n",
       "      <td>2021-01-04</td>\n",
       "      <td>1.306433</td>\n",
       "      <td>1.898015</td>\n",
       "      <td>0.734573</td>\n",
       "      <td>-0.722688</td>\n",
       "    </tr>\n",
       "    <tr>\n",
       "      <th>4</th>\n",
       "      <td>2021-01-05</td>\n",
       "      <td>1.729657</td>\n",
       "      <td>1.644555</td>\n",
       "      <td>0.331919</td>\n",
       "      <td>-1.255173</td>\n",
       "    </tr>\n",
       "    <tr>\n",
       "      <th>...</th>\n",
       "      <td>...</td>\n",
       "      <td>...</td>\n",
       "      <td>...</td>\n",
       "      <td>...</td>\n",
       "      <td>...</td>\n",
       "    </tr>\n",
       "    <tr>\n",
       "      <th>995</th>\n",
       "      <td>2023-09-23</td>\n",
       "      <td>-26.899202</td>\n",
       "      <td>17.800042</td>\n",
       "      <td>54.017799</td>\n",
       "      <td>-40.304920</td>\n",
       "    </tr>\n",
       "    <tr>\n",
       "      <th>996</th>\n",
       "      <td>2023-09-24</td>\n",
       "      <td>-27.672108</td>\n",
       "      <td>19.204610</td>\n",
       "      <td>55.248899</td>\n",
       "      <td>-41.590583</td>\n",
       "    </tr>\n",
       "    <tr>\n",
       "      <th>997</th>\n",
       "      <td>2023-09-25</td>\n",
       "      <td>-29.600809</td>\n",
       "      <td>19.371874</td>\n",
       "      <td>55.878157</td>\n",
       "      <td>-40.921985</td>\n",
       "    </tr>\n",
       "    <tr>\n",
       "      <th>998</th>\n",
       "      <td>2023-09-26</td>\n",
       "      <td>-29.299964</td>\n",
       "      <td>20.435790</td>\n",
       "      <td>54.732901</td>\n",
       "      <td>-41.182189</td>\n",
       "    </tr>\n",
       "    <tr>\n",
       "      <th>999</th>\n",
       "      <td>2023-09-27</td>\n",
       "      <td>-30.038024</td>\n",
       "      <td>20.805356</td>\n",
       "      <td>56.002983</td>\n",
       "      <td>-40.331851</td>\n",
       "    </tr>\n",
       "  </tbody>\n",
       "</table>\n",
       "<p>1000 rows × 5 columns</p>\n",
       "</div>"
      ],
      "text/plain": [
       "    Unnamed: 0          A          B          C          D\n",
       "0   2021-01-01  -1.248345   0.192553   0.442364   0.444710\n",
       "1   2021-01-02   1.116153   0.121536   0.964706   0.729129\n",
       "2   2021-01-03   1.196305   1.984165   0.631357   1.086882\n",
       "3   2021-01-04   1.306433   1.898015   0.734573  -0.722688\n",
       "4   2021-01-05   1.729657   1.644555   0.331919  -1.255173\n",
       "..         ...        ...        ...        ...        ...\n",
       "995 2023-09-23 -26.899202  17.800042  54.017799 -40.304920\n",
       "996 2023-09-24 -27.672108  19.204610  55.248899 -41.590583\n",
       "997 2023-09-25 -29.600809  19.371874  55.878157 -40.921985\n",
       "998 2023-09-26 -29.299964  20.435790  54.732901 -41.182189\n",
       "999 2023-09-27 -30.038024  20.805356  56.002983 -40.331851\n",
       "\n",
       "[1000 rows x 5 columns]"
      ]
     },
     "execution_count": 193,
     "metadata": {},
     "output_type": "execute_result"
    }
   ],
   "source": [
    "pd.read_excel('foo1.xlsx', 'Sheet1', index_col=None, na_values=['NA'], engine='openpyxl')"
   ]
  },
  {
   "cell_type": "code",
   "execution_count": 194,
   "metadata": {},
   "outputs": [
    {
     "data": {
      "text/plain": [
       "[<matplotlib.lines.Line2D at 0x259a4d41860>]"
      ]
     },
     "execution_count": 194,
     "metadata": {},
     "output_type": "execute_result"
    },
    {
     "data": {
      "image/png": "[encoded data removed]",
      "text/plain": [
       "<Figure size 432x288 with 1 Axes>"
      ]
     },
     "metadata": {},
     "output_type": "display_data"
    }
   ],
   "source": [
    "plt.plot([1, 20], [1, 20])"
   ]
  },
  {
   "cell_type": "code",
   "execution_count": null,
   "metadata": {
    "collapsed": true
   },
   "outputs": [],
   "source": [
    " "
   ]
  }
 ],
 "metadata": {
  "kernelspec": {
   "display_name": "Python [conda env:keras]",
   "language": "python",
   "name": "conda-env-keras-py"
  },
  "language_info": {
   "codemirror_mode": {
    "name": "ipython",
    "version": 3
   },
   "file_extension": ".py",
   "mimetype": "text/x-python",
   "name": "python",
   "nbconvert_exporter": "python",
   "pygments_lexer": "ipython3",
   "version": "3.6.2"
  }
 },
 "nbformat": 4,
 "nbformat_minor": 2
}
